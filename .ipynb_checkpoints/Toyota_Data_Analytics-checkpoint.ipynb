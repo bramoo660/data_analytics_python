{
 "cells": [
  {
   "cell_type": "markdown",
   "id": "5ff8b174-c666-4cda-9224-0a4b7688f676",
   "metadata": {},
   "source": [
    "## Import Libraries"
   ]
  },
  {
   "cell_type": "code",
   "execution_count": 1,
   "id": "a3391bc0-1f0b-4f18-a542-561a8d31e1b0",
   "metadata": {},
   "outputs": [
    {
     "name": "stderr",
     "output_type": "stream",
     "text": [
      "C:\\Users\\ybrim\\AppData\\Local\\Temp\\ipykernel_13336\\4113833418.py:3: DeprecationWarning: \n",
      "Pyarrow will become a required dependency of pandas in the next major release of pandas (pandas 3.0),\n",
      "(to allow more performant data types, such as the Arrow string type, and better interoperability with other libraries)\n",
      "but was not found to be installed on your system.\n",
      "If this would cause problems for you,\n",
      "please provide us feedback at https://github.com/pandas-dev/pandas/issues/54466\n",
      "        \n",
      "  import pandas as pd\n"
     ]
    },
    {
     "ename": "ModuleNotFoundError",
     "evalue": "No module named 'plotly'",
     "output_type": "error",
     "traceback": [
      "\u001b[1;31m---------------------------------------------------------------------------\u001b[0m",
      "\u001b[1;31mModuleNotFoundError\u001b[0m                       Traceback (most recent call last)",
      "Cell \u001b[1;32mIn[1], line 8\u001b[0m\n\u001b[0;32m      6\u001b[0m \u001b[38;5;28;01mimport\u001b[39;00m \u001b[38;5;21;01mmatplotlib\u001b[39;00m\u001b[38;5;21;01m.\u001b[39;00m\u001b[38;5;21;01mpyplot\u001b[39;00m \u001b[38;5;28;01mas\u001b[39;00m \u001b[38;5;21;01mplt\u001b[39;00m\n\u001b[0;32m      7\u001b[0m \u001b[38;5;28;01mimport\u001b[39;00m \u001b[38;5;21;01mseaborn\u001b[39;00m \u001b[38;5;28;01mas\u001b[39;00m \u001b[38;5;21;01msns\u001b[39;00m\n\u001b[1;32m----> 8\u001b[0m \u001b[38;5;28;01mimport\u001b[39;00m \u001b[38;5;21;01mplotly\u001b[39;00m\u001b[38;5;21;01m.\u001b[39;00m\u001b[38;5;21;01mgraph_objects\u001b[39;00m \u001b[38;5;28;01mas\u001b[39;00m \u001b[38;5;21;01mgo\u001b[39;00m\n",
      "\u001b[1;31mModuleNotFoundError\u001b[0m: No module named 'plotly'"
     ]
    }
   ],
   "source": [
    "## Loading and Processing Data\n",
    "import numpy as np\n",
    "import pandas as pd\n",
    "\n",
    "## Import matplotlib\n",
    "import matplotlib.pyplot as plt\n",
    "import seaborn as sns\n",
    "import plotly.graph_objects as go"
   ]
  },
  {
   "cell_type": "markdown",
   "id": "7ff1bdad-38f4-4adf-813d-6a929cd47b22",
   "metadata": {},
   "source": [
    "## Loading And Creating a Copy of Data"
   ]
  },
  {
   "cell_type": "code",
   "execution_count": null,
   "id": "1942453e-d4a2-4dcd-b826-cfda375f92a1",
   "metadata": {},
   "outputs": [],
   "source": [
    "toyota_data = pd.read_csv(\"Datasets/Toyota.csv\")"
   ]
  },
  {
   "cell_type": "code",
   "execution_count": null,
   "id": "ffc43982-d60a-44db-8308-2e51a00c0056",
   "metadata": {},
   "outputs": [],
   "source": [
    "## Create a Copy\n",
    "\n",
    "toyota_df = toyota_data.copy()"
   ]
  },
  {
   "cell_type": "markdown",
   "id": "e4280830-96c0-4bff-bbfc-0c105d9f2678",
   "metadata": {},
   "source": [
    "## Overviewing And Understanding The Toyota Dataframe"
   ]
  },
  {
   "cell_type": "code",
   "execution_count": null,
   "id": "f4a611ac-9e88-4068-966b-bfe3f9190e2c",
   "metadata": {},
   "outputs": [],
   "source": [
    "## lets you see the first five rows from the top of a data\n",
    "\n",
    "toyota_df.head()"
   ]
  },
  {
   "cell_type": "code",
   "execution_count": null,
   "id": "ff600abd-f8a6-4f0d-9fb6-b78abca422df",
   "metadata": {},
   "outputs": [],
   "source": [
    "toyota_df.tail()"
   ]
  },
  {
   "cell_type": "code",
   "execution_count": null,
   "id": "ac25ace3-376c-4edd-b7af-ed8c5b241993",
   "metadata": {},
   "outputs": [],
   "source": [
    "toyota_df.size"
   ]
  },
  {
   "cell_type": "code",
   "execution_count": null,
   "id": "12cc8ae4-6847-4727-9cab-8c02d4041965",
   "metadata": {},
   "outputs": [],
   "source": [
    "## Lets Check the total number of Rows and Colunms\n",
    "\n",
    "print(f\"=> Total Number of Rows: {toyota_df.shape[0]} => Total Number of Columns: {toyota_data.shape[1]}\")"
   ]
  },
  {
   "cell_type": "code",
   "execution_count": null,
   "id": "d0deb75b-0e4d-4fd8-921c-71c3601073e7",
   "metadata": {},
   "outputs": [],
   "source": [
    "## Lets display Index\n",
    "\n",
    "toyota_df.index"
   ]
  },
  {
   "cell_type": "code",
   "execution_count": null,
   "id": "5e155d9b-dc87-4d5b-9ab6-e64f92f10692",
   "metadata": {},
   "outputs": [],
   "source": [
    "## lets display the column names\n",
    "toyota_df.columns"
   ]
  },
  {
   "cell_type": "code",
   "execution_count": null,
   "id": "51f8a57a-8794-4415-a062-ea12a35c5501",
   "metadata": {},
   "outputs": [],
   "source": [
    "## Lets check the Columns types\n",
    "toyota_df.dtypes"
   ]
  },
  {
   "cell_type": "code",
   "execution_count": null,
   "id": "9f8f4ce4-a98f-4e7a-a62a-6ff8f7f4a38a",
   "metadata": {},
   "outputs": [],
   "source": [
    "## Lets get a concise summary of our toyota dataframe\n",
    "\n",
    "toyota_df.info()"
   ]
  },
  {
   "cell_type": "markdown",
   "id": "fe014deb-4c1e-41f8-9768-243fa1e9e2b4",
   "metadata": {},
   "source": [
    "### Check for unique Instances in the Following Columns\n",
    "- HP\n",
    "- KM\n",
    "- MetColor\n",
    "- Automatic\n",
    "- Doors"
   ]
  },
  {
   "cell_type": "code",
   "execution_count": null,
   "id": "fc20236e-137c-46f7-9e16-0270d266b61b",
   "metadata": {},
   "outputs": [],
   "source": [
    "print(np.unique(toyota_df['HP']))"
   ]
  },
  {
   "cell_type": "code",
   "execution_count": null,
   "id": "85e6f15a-e281-45f2-9e4a-e64e5c384740",
   "metadata": {},
   "outputs": [],
   "source": [
    "print(np.unique(toyota_df['KM']))"
   ]
  },
  {
   "cell_type": "code",
   "execution_count": null,
   "id": "ebb0e42f-5757-4bfc-9b6e-13c13b81aa9a",
   "metadata": {},
   "outputs": [],
   "source": [
    "print(np.unique(toyota_df['MetColor']))"
   ]
  },
  {
   "cell_type": "code",
   "execution_count": null,
   "id": "94df0f18-e672-42c8-ab9f-cfa6858e5095",
   "metadata": {},
   "outputs": [],
   "source": [
    "print(np.unique(toyota_df['Automatic']))"
   ]
  },
  {
   "cell_type": "code",
   "execution_count": null,
   "id": "cb2df6cf-1a57-43ce-9e56-236e74a8963a",
   "metadata": {},
   "outputs": [],
   "source": [
    "print(np.unique(toyota_df['Doors']))"
   ]
  },
  {
   "cell_type": "markdown",
   "id": "db53acb3-df00-49a4-a4e0-33eebe71e5b6",
   "metadata": {},
   "source": [
    "## Data Preprocessing\n",
    "- Replace '??' in KM with NaN and change column type to float\n",
    "- Replace  '????' in HP with NaN and change column type\n",
    "- In Column 'Doors', 'five' with 5, 'four' with 4, 'three' with 3, and change the column type"
   ]
  },
  {
   "cell_type": "code",
   "execution_count": null,
   "id": "3d112a35-b5d9-45cf-b9cb-0fffe0f32002",
   "metadata": {},
   "outputs": [],
   "source": [
    "toyota_df['KM'] = toyota_df['KM'].replace('??', np.nan)"
   ]
  },
  {
   "cell_type": "code",
   "execution_count": null,
   "id": "fb2922cd-6944-40bd-9d94-df294c9dbc13",
   "metadata": {},
   "outputs": [],
   "source": [
    "toyota_df['KM'] = toyota_df['KM'].astype(float)"
   ]
  },
  {
   "cell_type": "code",
   "execution_count": null,
   "id": "636d395d-3e50-4f2c-8321-d98bb71b1e4b",
   "metadata": {},
   "outputs": [],
   "source": [
    "print(np.unique(toyota_df['KM']))"
   ]
  },
  {
   "cell_type": "code",
   "execution_count": null,
   "id": "ee57075c-11ed-4470-83af-64651e016a92",
   "metadata": {},
   "outputs": [],
   "source": [
    "toyota_df['HP'] = toyota_df['HP'].replace('????', np.nan)\n",
    "toyota_df['HP'] = toyota_df['HP'].astype(float)\n",
    "print(np.unique(toyota_df['HP']))"
   ]
  },
  {
   "cell_type": "markdown",
   "id": "e49ea645-6b48-4165-9fd8-6043a185980e",
   "metadata": {},
   "source": [
    "### Assignment on Data Preprocessing"
   ]
  },
  {
   "cell_type": "code",
   "execution_count": null,
   "id": "48e95b91-5691-445c-9a40-d8d35b8e833e",
   "metadata": {},
   "outputs": [],
   "source": [
    "toyota_df['Doors'] = toyota_df['Doors'].replace('five', 5)"
   ]
  },
  {
   "cell_type": "code",
   "execution_count": null,
   "id": "e09d09b0-8cae-4f12-9db0-c5622ce4e6a4",
   "metadata": {},
   "outputs": [],
   "source": [
    "toyota_df['Doors'] = toyota_df['Doors'].replace('four', 4)"
   ]
  },
  {
   "cell_type": "code",
   "execution_count": null,
   "id": "a656e700-0b93-4feb-b1e9-ac3579d85b44",
   "metadata": {},
   "outputs": [],
   "source": [
    "toyota_df['Doors'] = toyota_df['Doors'].replace('three', 3)"
   ]
  },
  {
   "cell_type": "code",
   "execution_count": null,
   "id": "67d7d03e-469c-4de3-abeb-4c7c72ef80bf",
   "metadata": {},
   "outputs": [],
   "source": [
    "toyota_df['Doors'] = toyota_df['Doors'].astype(int)"
   ]
  },
  {
   "cell_type": "code",
   "execution_count": null,
   "id": "bfdd52de-a887-4396-a786-9d4f0edf7d6e",
   "metadata": {},
   "outputs": [],
   "source": [
    "print(np.unique(toyota_df['Doors']))"
   ]
  },
  {
   "cell_type": "markdown",
   "id": "c6a6c2e3-e539-4d63-9db9-0aa799651463",
   "metadata": {},
   "source": [
    "## DAY-9 Assignment on MEAN, MEDIAN, FILLNA"
   ]
  },
  {
   "cell_type": "code",
   "execution_count": null,
   "id": "33be7e6b-d992-46cb-87d1-40218284d28d",
   "metadata": {},
   "outputs": [],
   "source": [
    "## CHECKING FOR MISSING Values IN OUR dataframe or not\n",
    "\n",
    "toyota_df.isnull()"
   ]
  },
  {
   "cell_type": "code",
   "execution_count": null,
   "id": "9c163198-23a2-43b8-9b21-e91126849906",
   "metadata": {},
   "outputs": [],
   "source": [
    "toyota_df.isnull().sum()"
   ]
  },
  {
   "cell_type": "code",
   "execution_count": null,
   "id": "864baf01-d32f-4e43-8fcf-e757c32239a8",
   "metadata": {},
   "outputs": [],
   "source": [
    "mean_Age = toyota_df['Age'].mean()\n",
    "\n",
    "mean_Age"
   ]
  },
  {
   "cell_type": "code",
   "execution_count": null,
   "id": "9e54d128-6602-4ac4-9a81-6df6178682a1",
   "metadata": {},
   "outputs": [],
   "source": [
    "round(toyota_df['Age'].mean())"
   ]
  },
  {
   "cell_type": "code",
   "execution_count": null,
   "id": "0a9c26a6-381d-4259-a232-0afb8cca53a6",
   "metadata": {},
   "outputs": [],
   "source": [
    "toyota_df['Age'].median()"
   ]
  },
  {
   "cell_type": "markdown",
   "id": "a165c0ec-6ea3-4705-a349-ece4aa9b2819",
   "metadata": {},
   "source": [
    "## Filling in the Missing Valuesin the dataframe"
   ]
  },
  {
   "cell_type": "code",
   "execution_count": null,
   "id": "dcd14361-1789-41bb-8121-621127f1190f",
   "metadata": {},
   "outputs": [],
   "source": [
    "toyota_df['Age'] = toyota_df['Age'].fillna(mean_Age)"
   ]
  },
  {
   "cell_type": "code",
   "execution_count": null,
   "id": "c9028b09-9134-4c9b-a849-75371db24bd5",
   "metadata": {},
   "outputs": [],
   "source": [
    "toyota_df['Age'].isnull().sum()"
   ]
  },
  {
   "cell_type": "code",
   "execution_count": null,
   "id": "efaf3882-8cf4-4d2a-8f65-f59e7c9e0d84",
   "metadata": {},
   "outputs": [],
   "source": [
    "toyota_df['KM'].isnull().sum()"
   ]
  },
  {
   "cell_type": "code",
   "execution_count": null,
   "id": "84b1e34f-ebc1-4b1a-b088-4ea823de7f75",
   "metadata": {},
   "outputs": [],
   "source": [
    "toyota_df.isnull().sum()"
   ]
  },
  {
   "cell_type": "code",
   "execution_count": null,
   "id": "0a5781ac-caad-480f-a9e4-6255faf43d17",
   "metadata": {},
   "outputs": [],
   "source": [
    "## mean_fuel = toyota_df['FuelType'].mean()\n",
    "toyota_df['FuelType'].value_counts()"
   ]
  },
  {
   "cell_type": "code",
   "execution_count": null,
   "id": "7851762c-088d-46ac-b300-eccfd1ab8159",
   "metadata": {},
   "outputs": [],
   "source": [
    "toyota_df['FuelType'].value_counts().index[0]"
   ]
  },
  {
   "cell_type": "code",
   "execution_count": null,
   "id": "fc1fc6b2-b622-40af-ae1a-2636eb60b931",
   "metadata": {},
   "outputs": [],
   "source": [
    "mean_fuelType = toyota_df['FuelType'].value_counts().index[0]"
   ]
  },
  {
   "cell_type": "code",
   "execution_count": null,
   "id": "6af59c5d-4b7b-4ab7-8ffa-49d2028dfc2f",
   "metadata": {},
   "outputs": [],
   "source": [
    "toyota_df['FuelType'] = toyota_df['FuelType'].fillna(mean_fuelType)"
   ]
  },
  {
   "cell_type": "code",
   "execution_count": null,
   "id": "c6cea3d3-2845-4054-beb0-80ae88ff6fd9",
   "metadata": {},
   "outputs": [],
   "source": [
    "toyota_df['FuelType'].isnull().sum()"
   ]
  },
  {
   "cell_type": "code",
   "execution_count": null,
   "id": "7a58235c-1c0c-4993-813c-81844b0822ea",
   "metadata": {},
   "outputs": [],
   "source": [
    "toyota_df['FuelType'].isnull().sum()"
   ]
  },
  {
   "cell_type": "code",
   "execution_count": null,
   "id": "26960a48-4e21-4d91-bba1-b3c823109032",
   "metadata": {},
   "outputs": [],
   "source": [
    "toyota_df['MetColor'].value_counts()"
   ]
  },
  {
   "cell_type": "code",
   "execution_count": null,
   "id": "0ca013eb-3f4f-4974-99b6-813af1f3aedd",
   "metadata": {},
   "outputs": [],
   "source": [
    "mean_metcolor = toyota_df['MetColor'].value_counts().index[0]"
   ]
  },
  {
   "cell_type": "code",
   "execution_count": null,
   "id": "c0a059ad-b6e7-47e9-b0f1-57677fb9b6fb",
   "metadata": {},
   "outputs": [],
   "source": [
    "toyota_df['MetColor'] = toyota_df['MetColor'].fillna(mean_metcolor)"
   ]
  },
  {
   "cell_type": "code",
   "execution_count": null,
   "id": "1d7c5de5-e626-4114-b46b-b68dc8f8a8fc",
   "metadata": {},
   "outputs": [],
   "source": [
    "toyota_df['MetColor'].isnull().sum()"
   ]
  },
  {
   "cell_type": "code",
   "execution_count": null,
   "id": "065aaa58-831c-421c-9f5d-544678f4dd4d",
   "metadata": {},
   "outputs": [],
   "source": [
    "toyota_df.isnull().sum()"
   ]
  },
  {
   "cell_type": "markdown",
   "id": "433b0291-2364-40b3-b4f4-14fd65b7773d",
   "metadata": {},
   "source": [
    "### Adding a new Column to find the difference, in the form Addition "
   ]
  },
  {
   "cell_type": "code",
   "execution_count": null,
   "id": "756d2821-3405-4b2e-b947-941bb6089d24",
   "metadata": {},
   "outputs": [],
   "source": [
    "toyota_df['KM'] = toyota_df['KM'].replace('??', np.nan)\n",
    "toyota_df['KM'] = toyota_df['KM'].astype(float)"
   ]
  },
  {
   "cell_type": "code",
   "execution_count": null,
   "id": "c52432ec-73fc-4064-8643-2759a9cc3996",
   "metadata": {},
   "outputs": [],
   "source": [
    "toyota_df['Profit'] = toyota_df['Price'] - toyota_df['KM']"
   ]
  },
  {
   "cell_type": "code",
   "execution_count": null,
   "id": "96688919-3d46-41b5-a6e8-060fa303b791",
   "metadata": {},
   "outputs": [],
   "source": [
    "toyota_df"
   ]
  },
  {
   "cell_type": "code",
   "execution_count": null,
   "id": "2007066d-55ad-4f5c-a437-02263849649d",
   "metadata": {},
   "outputs": [],
   "source": [
    "numerical_cols = ['Price', 'Age', 'KM', 'HP', 'CC', 'Weight', 'Profit']\n",
    "\n",
    "categorical = ['Doors', 'FuelType', 'MetColor']"
   ]
  },
  {
   "cell_type": "code",
   "execution_count": null,
   "id": "13d5317c-9c09-4321-a379-93bcce4ec0d7",
   "metadata": {},
   "outputs": [],
   "source": [
    "toyota_df[numerical_cols]"
   ]
  },
  {
   "cell_type": "code",
   "execution_count": null,
   "id": "d9fe66d8-604e-43cb-99c5-77445189ac1a",
   "metadata": {},
   "outputs": [],
   "source": [
    "toyota_df[categorical]"
   ]
  },
  {
   "cell_type": "markdown",
   "id": "3701e340-6472-493f-ba60-81c1748aea32",
   "metadata": {},
   "source": [
    "### FILLING IN THE MISSING VALUES"
   ]
  },
  {
   "cell_type": "code",
   "execution_count": null,
   "id": "218ea4d6-427b-4677-b3be-d5ede58f2f68",
   "metadata": {},
   "outputs": [],
   "source": [
    "## del toyota_df [\"Unnamed: 0\"]"
   ]
  },
  {
   "cell_type": "code",
   "execution_count": null,
   "id": "78116f3e-5a33-4f4d-a9f0-cf58b0b11342",
   "metadata": {},
   "outputs": [],
   "source": [
    "toyota_df"
   ]
  },
  {
   "cell_type": "code",
   "execution_count": null,
   "id": "07cd63aa-a37d-4b1f-b1f5-5ca0a70fa3fc",
   "metadata": {},
   "outputs": [],
   "source": [
    "mean_age = toyota_df['Age'].mean()"
   ]
  },
  {
   "cell_type": "code",
   "execution_count": null,
   "id": "b555bc66-4eb9-40cd-8bc5-790876e066da",
   "metadata": {},
   "outputs": [],
   "source": [
    "toyota_df['Age'] = toyota_df['Age'].fillna(mean_age)"
   ]
  },
  {
   "cell_type": "code",
   "execution_count": null,
   "id": "86d60069-c5dd-4284-b353-0188babb55db",
   "metadata": {},
   "outputs": [],
   "source": [
    "toyota_df['Age'].isnull().sum()"
   ]
  },
  {
   "cell_type": "code",
   "execution_count": null,
   "id": "b5485593-1888-4fea-a9d3-a768dc123cb5",
   "metadata": {},
   "outputs": [],
   "source": [
    "median_age = toyota_df['KM'].median()"
   ]
  },
  {
   "cell_type": "code",
   "execution_count": null,
   "id": "c8ddf810-541c-4a15-8179-42948a5e274f",
   "metadata": {},
   "outputs": [],
   "source": [
    "toyota_df['KM'].isnull().sum()"
   ]
  },
  {
   "cell_type": "code",
   "execution_count": null,
   "id": "a9e38444-6ea5-46bf-a4bd-8fe612d5fb34",
   "metadata": {},
   "outputs": [],
   "source": [
    "toyota_df['KM'] = toyota_df['KM'].fillna(median_age)"
   ]
  },
  {
   "cell_type": "code",
   "execution_count": null,
   "id": "eb393a25-f213-4105-87e1-9734bf97c13f",
   "metadata": {},
   "outputs": [],
   "source": [
    "toyota_df['KM'].isnull().sum()"
   ]
  },
  {
   "cell_type": "code",
   "execution_count": null,
   "id": "98b28653-ff1b-4542-a21b-96e87e4e81be",
   "metadata": {},
   "outputs": [],
   "source": [
    "toyota_df['MetColor'].value_counts()\n",
    "##toyota_df['MetColor']= toyota_df['MetColor'].fillna(mean_mc)\n",
    "##toyota_df['MetColor'].isnull().sum()"
   ]
  },
  {
   "cell_type": "code",
   "execution_count": null,
   "id": "4aea4963-ecc4-45ff-8e49-86726e83ef36",
   "metadata": {},
   "outputs": [],
   "source": [
    "toyota_df"
   ]
  },
  {
   "cell_type": "code",
   "execution_count": null,
   "id": "260c04b7-61ed-4f3f-b826-19b71435420d",
   "metadata": {},
   "outputs": [],
   "source": [
    "toyota_df['Profit'] = toyota_df['Profit'].fillna(median_age)"
   ]
  },
  {
   "cell_type": "code",
   "execution_count": null,
   "id": "61057e86-1023-460e-a32f-3e95715c1320",
   "metadata": {},
   "outputs": [],
   "source": [
    "toyota_df"
   ]
  },
  {
   "cell_type": "markdown",
   "id": "67a8694b-cf53-4304-981c-876319fa7fc6",
   "metadata": {},
   "source": [
    "## LECTURERS POINT "
   ]
  },
  {
   "cell_type": "code",
   "execution_count": null,
   "id": "fbf34355-1029-4931-b044-37394a2734f4",
   "metadata": {},
   "outputs": [],
   "source": [
    "##toyota_df['Age'] = toyota_df['Age'].fillna(toyota_df['Age'].mean())\n",
    "##toyota_df['Age'].isnull().sum()"
   ]
  },
  {
   "cell_type": "code",
   "execution_count": null,
   "id": "60855e29-a633-4ef2-bb2b-039fdb06e5de",
   "metadata": {},
   "outputs": [],
   "source": [
    "##toyota_df['KM'] = toyota_df['KM'].fillna(toyota_df['KM'].mean())\n",
    "##toyota_df['KM'].isnull().sum()"
   ]
  },
  {
   "cell_type": "code",
   "execution_count": null,
   "id": "cf3dbe62-d9f4-487f-8b88-58a35ad06419",
   "metadata": {},
   "outputs": [],
   "source": [
    "##toyota_df['MetColor'] = toyota_df['MetColor'].fillna(toyota_df['MetColor'].value_counts().index([0]))\n",
    "##toyota_df['MetColor'].isnull().sum()"
   ]
  },
  {
   "cell_type": "code",
   "execution_count": null,
   "id": "054c1b88-3994-48bc-870e-cb217dd3f41e",
   "metadata": {},
   "outputs": [],
   "source": [
    "cat_cols = ['MetColor','Automatic','Doors']\n",
    "\n",
    "num_cols = ['Price','Age','KM', 'HP','CC','Weight']"
   ]
  },
  {
   "cell_type": "code",
   "execution_count": null,
   "id": "80813c95-d806-4ebf-b81f-6c3cd77ae767",
   "metadata": {},
   "outputs": [],
   "source": [
    "cat_df = toyota_df[cat_cols]\n",
    "\n",
    "num_df = toyota_df[num_cols]"
   ]
  },
  {
   "cell_type": "markdown",
   "id": "33eda479-b690-4f1e-8c65-6ea790540d0d",
   "metadata": {},
   "source": [
    "### DAY 10 - EDA Exploratory analysis\n",
    "#### Target and Features\n",
    "## Descriptive Analysis\n",
    "- Total Price, Highest Price, and Lowest Price"
   ]
  },
  {
   "cell_type": "code",
   "execution_count": null,
   "id": "e54525ff-5341-4c54-b61a-f758f82d8682",
   "metadata": {},
   "outputs": [],
   "source": [
    "toyota_df['Price'].sum()"
   ]
  },
  {
   "cell_type": "code",
   "execution_count": null,
   "id": "2e539ec0-ecf0-4815-aa40-81aab1d4be04",
   "metadata": {},
   "outputs": [],
   "source": [
    "toyota_df['Price'].min()"
   ]
  },
  {
   "cell_type": "code",
   "execution_count": null,
   "id": "ca565d47-9beb-4bf4-822e-a84e249e68fa",
   "metadata": {},
   "outputs": [],
   "source": [
    "toyota_df['Price'].max()"
   ]
  },
  {
   "cell_type": "code",
   "execution_count": null,
   "id": "52d453a6-435b-491f-acfc-982733ce1df4",
   "metadata": {},
   "outputs": [],
   "source": [
    "toyota_df.describe()"
   ]
  },
  {
   "cell_type": "code",
   "execution_count": null,
   "id": "0fde44c2-a9b0-470e-855c-7caf2b98a21c",
   "metadata": {},
   "outputs": [],
   "source": [
    "corr_toyota_df = num_df.corr()\n",
    "\n",
    "corr_toyota_df"
   ]
  },
  {
   "cell_type": "code",
   "execution_count": null,
   "id": "08239a00-06d2-4cc9-b98a-c5aef917ffb3",
   "metadata": {},
   "outputs": [],
   "source": [
    "plt.scatter(toyota_df['Age'], toyota_df['Price'], c = 'red')\n",
    "\n",
    "plt.title('Relation between Age and Price of a car.')\n",
    "\n",
    "plt.ylabel('Price (Dollars)')\n",
    "\n",
    "plt.xlabel('Age (Months)')\n",
    "\n",
    "plt.savefig('age_price_rel.png')\n",
    "\n",
    "plt.show()"
   ]
  },
  {
   "cell_type": "markdown",
   "id": "4d076baa-a921-4773-9996-ce6af4b709ed",
   "metadata": {},
   "source": [
    "### RELATIONSHIP BETWEEN PRICE AND MILEAGE"
   ]
  },
  {
   "cell_type": "code",
   "execution_count": null,
   "id": "a8a9365c-681f-4534-9c9c-c12451c9f752",
   "metadata": {},
   "outputs": [],
   "source": [
    "# plt.scatter(toyota_df['KM'], toyota_df['Price'], c = 'blue')\n",
    "\n",
    "# plt.title('Relation between Mileage and Price of a car.')\n",
    "\n",
    "# plt.ylabel('Price (Dollars)')\n",
    "\n",
    "# plt.xlabel('KM (Kilometers)')\n",
    "\n",
    "# plt.savefig('km_price_rel.png')\n",
    "\n",
    "# plt.show()"
   ]
  },
  {
   "cell_type": "markdown",
   "id": "432b64ce-7c64-480e-973e-07efcdd966e1",
   "metadata": {},
   "source": [
    "### RELATIONSHIP BETWEEN PRICE AND HP"
   ]
  },
  {
   "cell_type": "code",
   "execution_count": null,
   "id": "2781f73c-922b-4c61-b647-49c091ae9e74",
   "metadata": {},
   "outputs": [],
   "source": [
    "# plt.scatter(toyota_df['HP'], toyota_df['Price'], c = 'green')\n",
    "\n",
    "# plt.title('Relation between Hp and Price of a car.')\n",
    "\n",
    "# plt.ylabel('Price (Dollars)')\n",
    "\n",
    "# plt.xlabel('HP (rpm)')\n",
    "\n",
    "# plt.savefig('hp_price_rel.png')\n",
    "\n",
    "# plt.show()"
   ]
  },
  {
   "cell_type": "markdown",
   "id": "b42fdab1-7bf0-4b87-a9d6-477dc1d86532",
   "metadata": {},
   "source": [
    "### RELATIONSHIP BETWEEN PRICE AND CC"
   ]
  },
  {
   "cell_type": "code",
   "execution_count": null,
   "id": "a8893d45-ee8c-48f6-ab4a-bba6a4e6bc0f",
   "metadata": {},
   "outputs": [],
   "source": [
    "# plt.scatter(toyota_df['CC'], toyota_df['Price'], c = 'cyan')\n",
    "\n",
    "# plt.title('Relation between CC and Price of a car.')\n",
    "\n",
    "# plt.ylabel('Price (Dollars)')\n",
    "\n",
    "# plt.xlabel('CC (cubiccentimeter)')\n",
    "\n",
    "# plt.savefig('cc_price_rel.png')\n",
    "\n",
    "# plt.show()"
   ]
  },
  {
   "cell_type": "code",
   "execution_count": null,
   "id": "cd9dab20-ac85-4345-874b-4ff13e51b2d2",
   "metadata": {},
   "outputs": [],
   "source": []
  },
  {
   "cell_type": "code",
   "execution_count": null,
   "id": "728d9e72-cd96-443b-8063-86120b289ef6",
   "metadata": {},
   "outputs": [],
   "source": [
    "# plt.scatter(toyota_df['Weight'], toyota_df['Price'], c = 'magenta')\n",
    "\n",
    "# plt.title('Relation between Weight and Price of a car.')\n",
    "\n",
    "# plt.ylabel('Price (Dollars)')\n",
    "\n",
    "# plt.xlabel('Weight (kg)')\n",
    "\n",
    "# plt.savefig('weight_price_rel.png')\n",
    "\n",
    "# plt.show()"
   ]
  },
  {
   "cell_type": "markdown",
   "id": "ee1e117f-a4f7-4301-a6c7-b3d1015b916c",
   "metadata": {},
   "source": [
    "## Histogram visualization (Frequency distribution of price)"
   ]
  },
  {
   "cell_type": "code",
   "execution_count": null,
   "id": "5a1f0f46-2d58-4cf5-9e38-802a7e791462",
   "metadata": {},
   "outputs": [],
   "source": [
    "plt.hist(toyota_df['Price'])\n",
    "\n",
    "plt.title('Histogram Distribution of price.')\n",
    "\n",
    "plt.ylabel('Frequency')\n",
    "\n",
    "plt.xlabel('Price range')\n",
    "\n",
    "plt.savefig('Hist_price_rel.png')\n",
    "\n",
    "plt.show()"
   ]
  },
  {
   "cell_type": "markdown",
   "id": "dc675917-edbc-4af2-b553-4778b4b73186",
   "metadata": {},
   "source": [
    "### Histogram distribution of KM"
   ]
  },
  {
   "cell_type": "code",
   "execution_count": null,
   "id": "1a30693e-a05e-4db7-b1b8-ee6cee381f07",
   "metadata": {},
   "outputs": [],
   "source": [
    "plt.hist(toyota_df['KM'])\n",
    "\n",
    "plt.title('Histogram Distribution of Mileage.')\n",
    "\n",
    "plt.ylabel('Mileage')\n",
    "\n",
    "plt.xlabel('KM range')\n",
    "\n",
    "plt.savefig('Hist_KM_rel.png')\n",
    "\n",
    "plt.show()"
   ]
  },
  {
   "cell_type": "markdown",
   "id": "d94f991f-11bd-4f3e-9f46-2c62ba4497ab",
   "metadata": {},
   "source": [
    "### Histogram Distribution on Age"
   ]
  },
  {
   "cell_type": "code",
   "execution_count": null,
   "id": "bb8f1e1b-0ef1-4738-8971-e85d035394e9",
   "metadata": {},
   "outputs": [],
   "source": [
    "plt.hist(toyota_df['Age'])\n",
    "\n",
    "plt.title('Histogram Distribution of Age.')\n",
    "\n",
    "plt.ylabel('Age Difference')\n",
    "\n",
    "plt.xlabel('Age range')\n",
    "\n",
    "plt.savefig('Hist_Age_rel.png')\n",
    "\n",
    "plt.show()"
   ]
  },
  {
   "cell_type": "markdown",
   "id": "4ab317ee-ed39-4b37-a9a2-ab6805b09434",
   "metadata": {},
   "source": [
    "### Histogram for MetColor Distribution"
   ]
  },
  {
   "cell_type": "code",
   "execution_count": null,
   "id": "35accf78-ef7d-480e-972c-e704d9b1004a",
   "metadata": {},
   "outputs": [],
   "source": [
    "plt.hist(toyota_df['HP'])\n",
    "\n",
    "plt.title('Histogram Distribution of HP.')\n",
    "\n",
    "plt.ylabel('Horse power')\n",
    "\n",
    "plt.xlabel('HP range')\n",
    "\n",
    "plt.savefig('Hist_hp_rel.png')\n",
    "\n",
    "plt.show()"
   ]
  },
  {
   "cell_type": "code",
   "execution_count": null,
   "id": "d1092305-01b2-4ae5-a7d0-aeda68627e21",
   "metadata": {},
   "outputs": [],
   "source": [
    "sns.countplot(data=toyota_df, x ='FuelType')"
   ]
  },
  {
   "cell_type": "code",
   "execution_count": null,
   "id": "b630a020-da64-407f-8271-bbf5e494e50a",
   "metadata": {},
   "outputs": [],
   "source": [
    "sns.barplot(data = toyota_df, y='Price', x='FuelType', hue = 'MetColor')"
   ]
  },
  {
   "cell_type": "code",
   "execution_count": null,
   "id": "077fa586-99d9-40da-b4a6-72661e42bf7e",
   "metadata": {},
   "outputs": [],
   "source": [
    "sns.barplot(data = toyota_df, y='Price', x='FuelType', hue='Doors', errorbar=None)\n",
    "\n",
    "plt.title('Distribution of Price against FuelType in relation to Doors.')\n",
    "plt.xlabel('')\n",
    "plt.ylabel('')\n",
    "\n",
    "plt.show()"
   ]
  },
  {
   "cell_type": "code",
   "execution_count": null,
   "id": "7bae069b-060c-4768-8888-24a0a6f81761",
   "metadata": {},
   "outputs": [],
   "source": [
    "sns.scatterplot(data= toyota_df, y='Price', x='Age', hue='Automatic')\n",
    "\n",
    "plt.title('scatter Distribution of Price against Age.')"
   ]
  },
  {
   "cell_type": "code",
   "execution_count": 6,
   "id": "36ad8603-6b85-41c9-987d-72f1759fd9e6",
   "metadata": {},
   "outputs": [
    {
     "ename": "NameError",
     "evalue": "name 'toyota_df' is not defined",
     "output_type": "error",
     "traceback": [
      "\u001b[1;31m---------------------------------------------------------------------------\u001b[0m",
      "\u001b[1;31mNameError\u001b[0m                                 Traceback (most recent call last)",
      "Cell \u001b[1;32mIn[6], line 1\u001b[0m\n\u001b[1;32m----> 1\u001b[0m door_count \u001b[38;5;241m=\u001b[39m \u001b[43mtoyota_df\u001b[49m[\u001b[38;5;124m'\u001b[39m\u001b[38;5;124mDoors\u001b[39m\u001b[38;5;124m'\u001b[39m]\u001b[38;5;241m.\u001b[39mvalue_counts()\n",
      "\u001b[1;31mNameError\u001b[0m: name 'toyota_df' is not defined"
     ]
    }
   ],
   "source": [
    "door_count = toyota_df['Doors'].value_counts()"
   ]
  },
  {
   "cell_type": "code",
   "execution_count": null,
   "id": "4b2ae446-4672-47e5-a109-62ecbd32f163",
   "metadata": {},
   "outputs": [],
   "source": []
  }
 ],
 "metadata": {
  "kernelspec": {
   "display_name": "Python 3 (ipykernel)",
   "language": "python",
   "name": "python3"
  },
  "language_info": {
   "codemirror_mode": {
    "name": "ipython",
    "version": 3
   },
   "file_extension": ".py",
   "mimetype": "text/x-python",
   "name": "python",
   "nbconvert_exporter": "python",
   "pygments_lexer": "ipython3",
   "version": "3.11.2"
  }
 },
 "nbformat": 4,
 "nbformat_minor": 5
}
