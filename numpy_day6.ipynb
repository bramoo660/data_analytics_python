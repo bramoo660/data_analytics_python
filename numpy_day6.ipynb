{
 "cells": [
  {
   "cell_type": "markdown",
   "id": "7e6fe8b7-dd63-49a2-8cc4-24f81b99cbee",
   "metadata": {},
   "source": [
    "# Introduction To Numpy"
   ]
  },
  {
   "cell_type": "markdown",
   "id": "78dd49ac-2638-4fff-b928-71a8a9ee8e9f",
   "metadata": {},
   "source": [
    "### Import Libraries"
   ]
  },
  {
   "cell_type": "code",
   "execution_count": 2,
   "id": "506ee59d-6769-4995-a830-1f6eda62e7e0",
   "metadata": {},
   "outputs": [],
   "source": [
    "import numpy as np"
   ]
  },
  {
   "cell_type": "code",
   "execution_count": 3,
   "id": "1f0f5a15-ed58-444c-b060-28973151d96f",
   "metadata": {},
   "outputs": [
    {
     "name": "stdout",
     "output_type": "stream",
     "text": [
      "[1, 2, 3, 4, 5, 6]\n"
     ]
    }
   ],
   "source": [
    "list = [1, 2, 3, 4, 5, 6]\n",
    "print(list)"
   ]
  },
  {
   "cell_type": "code",
   "execution_count": 4,
   "id": "11ea4325-7b1c-4969-8f5d-b8f0799c3cee",
   "metadata": {},
   "outputs": [
    {
     "name": "stdout",
     "output_type": "stream",
     "text": [
      "[1 2 3 4 5 6]\n"
     ]
    }
   ],
   "source": [
    "array = np.array(list)\n",
    "print(array)"
   ]
  },
  {
   "cell_type": "code",
   "execution_count": 5,
   "id": "0a596508-5687-4588-91b1-cefedaae7bd7",
   "metadata": {},
   "outputs": [
    {
     "name": "stdout",
     "output_type": "stream",
     "text": [
      "6\n",
      "1\n",
      "(6,)\n"
     ]
    }
   ],
   "source": [
    "print(len(array))\n",
    "print(array.ndim)\n",
    "print(array.shape)"
   ]
  },
  {
   "cell_type": "code",
   "execution_count": 6,
   "id": "b3e531db-1221-45ef-bcbc-4397332f9052",
   "metadata": {},
   "outputs": [
    {
     "name": "stdout",
     "output_type": "stream",
     "text": [
      "[[1 2]\n",
      " [3 4]\n",
      " [5 6]]\n"
     ]
    }
   ],
   "source": [
    "array2 = array.reshape(3, 2)\n",
    "print(array2)"
   ]
  },
  {
   "cell_type": "code",
   "execution_count": 7,
   "id": "642eaf3b-49cd-4efc-ae8b-7114255bc01c",
   "metadata": {},
   "outputs": [
    {
     "data": {
      "text/plain": [
       "(3, 2)"
      ]
     },
     "execution_count": 7,
     "metadata": {},
     "output_type": "execute_result"
    }
   ],
   "source": [
    "array2.shape"
   ]
  },
  {
   "cell_type": "raw",
   "id": "de0677a8-9574-4118-8cf1-81ea1df363b4",
   "metadata": {},
   "source": [
    "x = np.array([[1, 2], [3, 4]], dtype = np.float32)\n",
    "\n",
    "y = np.array([[5,6], [7, 8]], dtype = np.float32)\n",
    "\n",
    "print(x)\n",
    "print(y)"
   ]
  },
  {
   "cell_type": "code",
   "execution_count": 12,
   "id": "cab7559b-45d3-4b50-945a-e35a5f622eee",
   "metadata": {},
   "outputs": [
    {
     "ename": "NameError",
     "evalue": "name 'x' is not defined",
     "output_type": "error",
     "traceback": [
      "\u001b[1;31m---------------------------------------------------------------------------\u001b[0m",
      "\u001b[1;31mNameError\u001b[0m                                 Traceback (most recent call last)",
      "Cell \u001b[1;32mIn[12], line 1\u001b[0m\n\u001b[1;32m----> 1\u001b[0m \u001b[38;5;28mprint\u001b[39m(\u001b[43mx\u001b[49m \u001b[38;5;241m+\u001b[39m y)\n",
      "\u001b[1;31mNameError\u001b[0m: name 'x' is not defined"
     ]
    }
   ],
   "source": [
    "print(x + y)"
   ]
  },
  {
   "cell_type": "markdown",
   "id": "cac44ebd-48ec-48ba-a1bf-9db602f3efb3",
   "metadata": {},
   "source": [
    "## Another way of adding two metrics"
   ]
  },
  {
   "cell_type": "code",
   "execution_count": 13,
   "id": "9b0ee3d4-e681-4ff7-8ffd-d20ee3529def",
   "metadata": {},
   "outputs": [
    {
     "ename": "NameError",
     "evalue": "name 'x' is not defined",
     "output_type": "error",
     "traceback": [
      "\u001b[1;31m---------------------------------------------------------------------------\u001b[0m",
      "\u001b[1;31mNameError\u001b[0m                                 Traceback (most recent call last)",
      "Cell \u001b[1;32mIn[13], line 1\u001b[0m\n\u001b[1;32m----> 1\u001b[0m \u001b[38;5;28mprint\u001b[39m(np\u001b[38;5;241m.\u001b[39madd(\u001b[43mx\u001b[49m, y))\n",
      "\u001b[1;31mNameError\u001b[0m: name 'x' is not defined"
     ]
    }
   ],
   "source": [
    "print(np.add(x, y))"
   ]
  },
  {
   "cell_type": "markdown",
   "id": "11129ec9-5428-4c6d-beba-8564c17d887f",
   "metadata": {},
   "source": [
    "## Subtraction in metrics"
   ]
  },
  {
   "cell_type": "code",
   "execution_count": 14,
   "id": "6e9e03d1-499e-4928-a6b4-6091ea0e4db7",
   "metadata": {},
   "outputs": [
    {
     "ename": "NameError",
     "evalue": "name 'x' is not defined",
     "output_type": "error",
     "traceback": [
      "\u001b[1;31m---------------------------------------------------------------------------\u001b[0m",
      "\u001b[1;31mNameError\u001b[0m                                 Traceback (most recent call last)",
      "Cell \u001b[1;32mIn[14], line 1\u001b[0m\n\u001b[1;32m----> 1\u001b[0m \u001b[38;5;28mprint\u001b[39m(\u001b[43mx\u001b[49m \u001b[38;5;241m-\u001b[39m y)\n\u001b[0;32m      2\u001b[0m \u001b[38;5;28mprint\u001b[39m(np\u001b[38;5;241m.\u001b[39msubtract(x, y))\n",
      "\u001b[1;31mNameError\u001b[0m: name 'x' is not defined"
     ]
    }
   ],
   "source": [
    "print(x - y)\n",
    "print(np.subtract(x, y))"
   ]
  },
  {
   "cell_type": "code",
   "execution_count": null,
   "id": "49c7b26a-519f-49f7-bd93-8b006c9ef872",
   "metadata": {},
   "outputs": [],
   "source": []
  },
  {
   "cell_type": "code",
   "execution_count": null,
   "id": "4ad692ab-823d-4eff-a139-7e67b3229c2d",
   "metadata": {},
   "outputs": [],
   "source": []
  }
 ],
 "metadata": {
  "kernelspec": {
   "display_name": "Python 3 (ipykernel)",
   "language": "python",
   "name": "python3"
  },
  "language_info": {
   "codemirror_mode": {
    "name": "ipython",
    "version": 3
   },
   "file_extension": ".py",
   "mimetype": "text/x-python",
   "name": "python",
   "nbconvert_exporter": "python",
   "pygments_lexer": "ipython3",
   "version": "3.11.2"
  }
 },
 "nbformat": 4,
 "nbformat_minor": 5
}
