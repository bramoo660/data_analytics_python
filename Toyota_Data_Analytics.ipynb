{
 "cells": [
  {
   "cell_type": "markdown",
   "id": "5ff8b174-c666-4cda-9224-0a4b7688f676",
   "metadata": {},
   "source": [
    "## Import Libraries"
   ]
  },
  {
   "cell_type": "code",
   "execution_count": 1,
   "id": "a3391bc0-1f0b-4f18-a542-561a8d31e1b0",
   "metadata": {},
   "outputs": [],
   "source": [
    "## Loading and Processing Data\n",
    "import numpy as np\n",
    "import pandas as pd\n",
    "\n",
    "## Import matplotlib\n",
    "import matplotlib.pyplot as plt\n",
    "import seaborn as sns"
   ]
  },
  {
   "cell_type": "markdown",
   "id": "7ff1bdad-38f4-4adf-813d-6a929cd47b22",
   "metadata": {},
   "source": [
    "## Loading And Creating a Copy of Data"
   ]
  },
  {
   "cell_type": "code",
   "execution_count": 2,
   "id": "1942453e-d4a2-4dcd-b826-cfda375f92a1",
   "metadata": {},
   "outputs": [],
   "source": [
    "toyota_data = pd.read_csv(\"Datasets/Toyota.csv\")"
   ]
  },
  {
   "cell_type": "code",
   "execution_count": 3,
   "id": "ffc43982-d60a-44db-8308-2e51a00c0056",
   "metadata": {},
   "outputs": [],
   "source": [
    "## Create a Copy\n",
    "\n",
    "toyota_df = toyota_data.copy()"
   ]
  },
  {
   "cell_type": "markdown",
   "id": "e4280830-96c0-4bff-bbfc-0c105d9f2678",
   "metadata": {},
   "source": [
    "## Overviewing And Understanding The Toyota Dataframe"
   ]
  },
  {
   "cell_type": "code",
   "execution_count": 4,
   "id": "f4a611ac-9e88-4068-966b-bfe3f9190e2c",
   "metadata": {},
   "outputs": [
    {
     "data": {
      "text/html": [
       "<div>\n",
       "<style scoped>\n",
       "    .dataframe tbody tr th:only-of-type {\n",
       "        vertical-align: middle;\n",
       "    }\n",
       "\n",
       "    .dataframe tbody tr th {\n",
       "        vertical-align: top;\n",
       "    }\n",
       "\n",
       "    .dataframe thead th {\n",
       "        text-align: right;\n",
       "    }\n",
       "</style>\n",
       "<table border=\"1\" class=\"dataframe\">\n",
       "  <thead>\n",
       "    <tr style=\"text-align: right;\">\n",
       "      <th></th>\n",
       "      <th>Unnamed: 0</th>\n",
       "      <th>Price</th>\n",
       "      <th>Age</th>\n",
       "      <th>KM</th>\n",
       "      <th>FuelType</th>\n",
       "      <th>HP</th>\n",
       "      <th>MetColor</th>\n",
       "      <th>Automatic</th>\n",
       "      <th>CC</th>\n",
       "      <th>Doors</th>\n",
       "      <th>Weight</th>\n",
       "    </tr>\n",
       "  </thead>\n",
       "  <tbody>\n",
       "    <tr>\n",
       "      <th>0</th>\n",
       "      <td>0</td>\n",
       "      <td>13500</td>\n",
       "      <td>23.0</td>\n",
       "      <td>46986</td>\n",
       "      <td>Diesel</td>\n",
       "      <td>90</td>\n",
       "      <td>1.0</td>\n",
       "      <td>0</td>\n",
       "      <td>2000</td>\n",
       "      <td>three</td>\n",
       "      <td>1165</td>\n",
       "    </tr>\n",
       "    <tr>\n",
       "      <th>1</th>\n",
       "      <td>1</td>\n",
       "      <td>13750</td>\n",
       "      <td>23.0</td>\n",
       "      <td>72937</td>\n",
       "      <td>Diesel</td>\n",
       "      <td>90</td>\n",
       "      <td>1.0</td>\n",
       "      <td>0</td>\n",
       "      <td>2000</td>\n",
       "      <td>3</td>\n",
       "      <td>1165</td>\n",
       "    </tr>\n",
       "    <tr>\n",
       "      <th>2</th>\n",
       "      <td>2</td>\n",
       "      <td>13950</td>\n",
       "      <td>24.0</td>\n",
       "      <td>41711</td>\n",
       "      <td>Diesel</td>\n",
       "      <td>90</td>\n",
       "      <td>NaN</td>\n",
       "      <td>0</td>\n",
       "      <td>2000</td>\n",
       "      <td>3</td>\n",
       "      <td>1165</td>\n",
       "    </tr>\n",
       "    <tr>\n",
       "      <th>3</th>\n",
       "      <td>3</td>\n",
       "      <td>14950</td>\n",
       "      <td>26.0</td>\n",
       "      <td>48000</td>\n",
       "      <td>Diesel</td>\n",
       "      <td>90</td>\n",
       "      <td>0.0</td>\n",
       "      <td>0</td>\n",
       "      <td>2000</td>\n",
       "      <td>3</td>\n",
       "      <td>1165</td>\n",
       "    </tr>\n",
       "    <tr>\n",
       "      <th>4</th>\n",
       "      <td>4</td>\n",
       "      <td>13750</td>\n",
       "      <td>30.0</td>\n",
       "      <td>38500</td>\n",
       "      <td>Diesel</td>\n",
       "      <td>90</td>\n",
       "      <td>0.0</td>\n",
       "      <td>0</td>\n",
       "      <td>2000</td>\n",
       "      <td>3</td>\n",
       "      <td>1170</td>\n",
       "    </tr>\n",
       "  </tbody>\n",
       "</table>\n",
       "</div>"
      ],
      "text/plain": [
       "   Unnamed: 0  Price   Age     KM FuelType  HP  MetColor  Automatic    CC  \\\n",
       "0           0  13500  23.0  46986   Diesel  90       1.0          0  2000   \n",
       "1           1  13750  23.0  72937   Diesel  90       1.0          0  2000   \n",
       "2           2  13950  24.0  41711   Diesel  90       NaN          0  2000   \n",
       "3           3  14950  26.0  48000   Diesel  90       0.0          0  2000   \n",
       "4           4  13750  30.0  38500   Diesel  90       0.0          0  2000   \n",
       "\n",
       "   Doors  Weight  \n",
       "0  three    1165  \n",
       "1      3    1165  \n",
       "2      3    1165  \n",
       "3      3    1165  \n",
       "4      3    1170  "
      ]
     },
     "execution_count": 4,
     "metadata": {},
     "output_type": "execute_result"
    }
   ],
   "source": [
    "## lets you see the first five rows from the top of a data\n",
    "\n",
    "toyota_df.head()"
   ]
  },
  {
   "cell_type": "code",
   "execution_count": 5,
   "id": "ff600abd-f8a6-4f0d-9fb6-b78abca422df",
   "metadata": {},
   "outputs": [
    {
     "data": {
      "text/html": [
       "<div>\n",
       "<style scoped>\n",
       "    .dataframe tbody tr th:only-of-type {\n",
       "        vertical-align: middle;\n",
       "    }\n",
       "\n",
       "    .dataframe tbody tr th {\n",
       "        vertical-align: top;\n",
       "    }\n",
       "\n",
       "    .dataframe thead th {\n",
       "        text-align: right;\n",
       "    }\n",
       "</style>\n",
       "<table border=\"1\" class=\"dataframe\">\n",
       "  <thead>\n",
       "    <tr style=\"text-align: right;\">\n",
       "      <th></th>\n",
       "      <th>Unnamed: 0</th>\n",
       "      <th>Price</th>\n",
       "      <th>Age</th>\n",
       "      <th>KM</th>\n",
       "      <th>FuelType</th>\n",
       "      <th>HP</th>\n",
       "      <th>MetColor</th>\n",
       "      <th>Automatic</th>\n",
       "      <th>CC</th>\n",
       "      <th>Doors</th>\n",
       "      <th>Weight</th>\n",
       "    </tr>\n",
       "  </thead>\n",
       "  <tbody>\n",
       "    <tr>\n",
       "      <th>1431</th>\n",
       "      <td>1431</td>\n",
       "      <td>7500</td>\n",
       "      <td>NaN</td>\n",
       "      <td>20544</td>\n",
       "      <td>Petrol</td>\n",
       "      <td>86</td>\n",
       "      <td>1.0</td>\n",
       "      <td>0</td>\n",
       "      <td>1300</td>\n",
       "      <td>3</td>\n",
       "      <td>1025</td>\n",
       "    </tr>\n",
       "    <tr>\n",
       "      <th>1432</th>\n",
       "      <td>1432</td>\n",
       "      <td>10845</td>\n",
       "      <td>72.0</td>\n",
       "      <td>??</td>\n",
       "      <td>Petrol</td>\n",
       "      <td>86</td>\n",
       "      <td>0.0</td>\n",
       "      <td>0</td>\n",
       "      <td>1300</td>\n",
       "      <td>3</td>\n",
       "      <td>1015</td>\n",
       "    </tr>\n",
       "    <tr>\n",
       "      <th>1433</th>\n",
       "      <td>1433</td>\n",
       "      <td>8500</td>\n",
       "      <td>NaN</td>\n",
       "      <td>17016</td>\n",
       "      <td>Petrol</td>\n",
       "      <td>86</td>\n",
       "      <td>0.0</td>\n",
       "      <td>0</td>\n",
       "      <td>1300</td>\n",
       "      <td>3</td>\n",
       "      <td>1015</td>\n",
       "    </tr>\n",
       "    <tr>\n",
       "      <th>1434</th>\n",
       "      <td>1434</td>\n",
       "      <td>7250</td>\n",
       "      <td>70.0</td>\n",
       "      <td>??</td>\n",
       "      <td>NaN</td>\n",
       "      <td>86</td>\n",
       "      <td>1.0</td>\n",
       "      <td>0</td>\n",
       "      <td>1300</td>\n",
       "      <td>3</td>\n",
       "      <td>1015</td>\n",
       "    </tr>\n",
       "    <tr>\n",
       "      <th>1435</th>\n",
       "      <td>1435</td>\n",
       "      <td>6950</td>\n",
       "      <td>76.0</td>\n",
       "      <td>1</td>\n",
       "      <td>Petrol</td>\n",
       "      <td>110</td>\n",
       "      <td>0.0</td>\n",
       "      <td>0</td>\n",
       "      <td>1600</td>\n",
       "      <td>5</td>\n",
       "      <td>1114</td>\n",
       "    </tr>\n",
       "  </tbody>\n",
       "</table>\n",
       "</div>"
      ],
      "text/plain": [
       "      Unnamed: 0  Price   Age     KM FuelType   HP  MetColor  Automatic    CC  \\\n",
       "1431        1431   7500   NaN  20544   Petrol   86       1.0          0  1300   \n",
       "1432        1432  10845  72.0     ??   Petrol   86       0.0          0  1300   \n",
       "1433        1433   8500   NaN  17016   Petrol   86       0.0          0  1300   \n",
       "1434        1434   7250  70.0     ??      NaN   86       1.0          0  1300   \n",
       "1435        1435   6950  76.0      1   Petrol  110       0.0          0  1600   \n",
       "\n",
       "     Doors  Weight  \n",
       "1431     3    1025  \n",
       "1432     3    1015  \n",
       "1433     3    1015  \n",
       "1434     3    1015  \n",
       "1435     5    1114  "
      ]
     },
     "execution_count": 5,
     "metadata": {},
     "output_type": "execute_result"
    }
   ],
   "source": [
    "toyota_df.tail()"
   ]
  },
  {
   "cell_type": "code",
   "execution_count": 6,
   "id": "ac25ace3-376c-4edd-b7af-ed8c5b241993",
   "metadata": {},
   "outputs": [
    {
     "data": {
      "text/plain": [
       "15796"
      ]
     },
     "execution_count": 6,
     "metadata": {},
     "output_type": "execute_result"
    }
   ],
   "source": [
    "toyota_df.size"
   ]
  },
  {
   "cell_type": "code",
   "execution_count": 7,
   "id": "12cc8ae4-6847-4727-9cab-8c02d4041965",
   "metadata": {},
   "outputs": [
    {
     "name": "stdout",
     "output_type": "stream",
     "text": [
      "=> Total Number of Rows: 1436 => Total Number of Columns: 11\n"
     ]
    }
   ],
   "source": [
    "## Lets Check the total number of Rows and Colunms\n",
    "\n",
    "print(f\"=> Total Number of Rows: {toyota_df.shape[0]} => Total Number of Columns: {toyota_data.shape[1]}\")"
   ]
  },
  {
   "cell_type": "code",
   "execution_count": 8,
   "id": "d0deb75b-0e4d-4fd8-921c-71c3601073e7",
   "metadata": {},
   "outputs": [
    {
     "data": {
      "text/plain": [
       "RangeIndex(start=0, stop=1436, step=1)"
      ]
     },
     "execution_count": 8,
     "metadata": {},
     "output_type": "execute_result"
    }
   ],
   "source": [
    "## Lets display Index\n",
    "\n",
    "toyota_df.index"
   ]
  },
  {
   "cell_type": "code",
   "execution_count": 9,
   "id": "5e155d9b-dc87-4d5b-9ab6-e64f92f10692",
   "metadata": {},
   "outputs": [
    {
     "data": {
      "text/plain": [
       "Index(['Unnamed: 0', 'Price', 'Age', 'KM', 'FuelType', 'HP', 'MetColor',\n",
       "       'Automatic', 'CC', 'Doors', 'Weight'],\n",
       "      dtype='object')"
      ]
     },
     "execution_count": 9,
     "metadata": {},
     "output_type": "execute_result"
    }
   ],
   "source": [
    "## lets display the column names\n",
    "toyota_df.columns"
   ]
  },
  {
   "cell_type": "code",
   "execution_count": 10,
   "id": "51f8a57a-8794-4415-a062-ea12a35c5501",
   "metadata": {},
   "outputs": [
    {
     "data": {
      "text/plain": [
       "Unnamed: 0      int64\n",
       "Price           int64\n",
       "Age           float64\n",
       "KM             object\n",
       "FuelType       object\n",
       "HP             object\n",
       "MetColor      float64\n",
       "Automatic       int64\n",
       "CC              int64\n",
       "Doors          object\n",
       "Weight          int64\n",
       "dtype: object"
      ]
     },
     "execution_count": 10,
     "metadata": {},
     "output_type": "execute_result"
    }
   ],
   "source": [
    "## Lets check the Columns types\n",
    "toyota_df.dtypes"
   ]
  },
  {
   "cell_type": "code",
   "execution_count": 11,
   "id": "9f8f4ce4-a98f-4e7a-a62a-6ff8f7f4a38a",
   "metadata": {},
   "outputs": [
    {
     "name": "stdout",
     "output_type": "stream",
     "text": [
      "<class 'pandas.core.frame.DataFrame'>\n",
      "RangeIndex: 1436 entries, 0 to 1435\n",
      "Data columns (total 11 columns):\n",
      " #   Column      Non-Null Count  Dtype  \n",
      "---  ------      --------------  -----  \n",
      " 0   Unnamed: 0  1436 non-null   int64  \n",
      " 1   Price       1436 non-null   int64  \n",
      " 2   Age         1336 non-null   float64\n",
      " 3   KM          1436 non-null   object \n",
      " 4   FuelType    1336 non-null   object \n",
      " 5   HP          1436 non-null   object \n",
      " 6   MetColor    1286 non-null   float64\n",
      " 7   Automatic   1436 non-null   int64  \n",
      " 8   CC          1436 non-null   int64  \n",
      " 9   Doors       1436 non-null   object \n",
      " 10  Weight      1436 non-null   int64  \n",
      "dtypes: float64(2), int64(5), object(4)\n",
      "memory usage: 123.5+ KB\n"
     ]
    }
   ],
   "source": [
    "## Lets get a concise summary of our toyota dataframe\n",
    "\n",
    "toyota_df.info()"
   ]
  },
  {
   "cell_type": "markdown",
   "id": "fe014deb-4c1e-41f8-9768-243fa1e9e2b4",
   "metadata": {},
   "source": [
    "### Check for unique Instances in the Following Columns\n",
    "- HP\n",
    "- KM\n",
    "- MetColor\n",
    "- Automatic\n",
    "- Doors"
   ]
  },
  {
   "cell_type": "code",
   "execution_count": 12,
   "id": "fc20236e-137c-46f7-9e16-0270d266b61b",
   "metadata": {},
   "outputs": [
    {
     "name": "stdout",
     "output_type": "stream",
     "text": [
      "['107' '110' '116' '192' '69' '71' '72' '73' '86' '90' '97' '98' '????']\n"
     ]
    }
   ],
   "source": [
    "print(np.unique(toyota_df['HP']))"
   ]
  },
  {
   "cell_type": "code",
   "execution_count": 13,
   "id": "85e6f15a-e281-45f2-9e4a-e64e5c384740",
   "metadata": {},
   "outputs": [
    {
     "name": "stdout",
     "output_type": "stream",
     "text": [
      "['1' '10000' '100123' ... '99865' '99971' '??']\n"
     ]
    }
   ],
   "source": [
    "print(np.unique(toyota_df['KM']))"
   ]
  },
  {
   "cell_type": "code",
   "execution_count": 14,
   "id": "ebb0e42f-5757-4bfc-9b6e-13c13b81aa9a",
   "metadata": {},
   "outputs": [
    {
     "name": "stdout",
     "output_type": "stream",
     "text": [
      "[ 0.  1. nan]\n"
     ]
    }
   ],
   "source": [
    "print(np.unique(toyota_df['MetColor']))"
   ]
  },
  {
   "cell_type": "code",
   "execution_count": 15,
   "id": "94df0f18-e672-42c8-ab9f-cfa6858e5095",
   "metadata": {},
   "outputs": [
    {
     "name": "stdout",
     "output_type": "stream",
     "text": [
      "[0 1]\n"
     ]
    }
   ],
   "source": [
    "print(np.unique(toyota_df['Automatic']))"
   ]
  },
  {
   "cell_type": "code",
   "execution_count": 16,
   "id": "cb2df6cf-1a57-43ce-9e56-236e74a8963a",
   "metadata": {},
   "outputs": [
    {
     "name": "stdout",
     "output_type": "stream",
     "text": [
      "['2' '3' '4' '5' 'five' 'four' 'three']\n"
     ]
    }
   ],
   "source": [
    "print(np.unique(toyota_df['Doors']))"
   ]
  },
  {
   "cell_type": "markdown",
   "id": "db53acb3-df00-49a4-a4e0-33eebe71e5b6",
   "metadata": {},
   "source": [
    "## Data Preprocessing\n",
    "- Replace '??' in KM with NaN and change column type to float\n",
    "- Replace  '????' in HP with NaN and change column type\n",
    "- In Column 'Doors', 'five' with 5, 'four' with 4, 'three' with 3, and change the column type"
   ]
  },
  {
   "cell_type": "code",
   "execution_count": 17,
   "id": "3d112a35-b5d9-45cf-b9cb-0fffe0f32002",
   "metadata": {},
   "outputs": [],
   "source": [
    "toyota_df['KM'] = toyota_df['KM'].replace('??', np.nan)"
   ]
  },
  {
   "cell_type": "code",
   "execution_count": 18,
   "id": "fb2922cd-6944-40bd-9d94-df294c9dbc13",
   "metadata": {},
   "outputs": [],
   "source": [
    "toyota_df['KM'] = toyota_df['KM'].astype(float)"
   ]
  },
  {
   "cell_type": "code",
   "execution_count": 19,
   "id": "636d395d-3e50-4f2c-8321-d98bb71b1e4b",
   "metadata": {},
   "outputs": [
    {
     "name": "stdout",
     "output_type": "stream",
     "text": [
      "[1.0000e+00 1.5000e+01 2.2500e+02 ... 2.3294e+05 2.4300e+05        nan]\n"
     ]
    }
   ],
   "source": [
    "print(np.unique(toyota_df['KM']))"
   ]
  },
  {
   "cell_type": "code",
   "execution_count": 20,
   "id": "ee57075c-11ed-4470-83af-64651e016a92",
   "metadata": {},
   "outputs": [
    {
     "name": "stdout",
     "output_type": "stream",
     "text": [
      "[ 69.  71.  72.  73.  86.  90.  97.  98. 107. 110. 116. 192.  nan]\n"
     ]
    }
   ],
   "source": [
    "toyota_df['HP'] = toyota_df['HP'].replace('????', np.nan)\n",
    "toyota_df['HP'] = toyota_df['HP'].astype(float)\n",
    "print(np.unique(toyota_df['HP']))"
   ]
  },
  {
   "cell_type": "markdown",
   "id": "e49ea645-6b48-4165-9fd8-6043a185980e",
   "metadata": {},
   "source": [
    "### Assignment on Data Preprocessing"
   ]
  },
  {
   "cell_type": "code",
   "execution_count": 21,
   "id": "48e95b91-5691-445c-9a40-d8d35b8e833e",
   "metadata": {},
   "outputs": [],
   "source": [
    "toyota_df['Doors'] = toyota_df['Doors'].replace('five', 5)"
   ]
  },
  {
   "cell_type": "code",
   "execution_count": 22,
   "id": "e09d09b0-8cae-4f12-9db0-c5622ce4e6a4",
   "metadata": {},
   "outputs": [],
   "source": [
    "toyota_df['Doors'] = toyota_df['Doors'].replace('four', 4)"
   ]
  },
  {
   "cell_type": "code",
   "execution_count": 23,
   "id": "a656e700-0b93-4feb-b1e9-ac3579d85b44",
   "metadata": {},
   "outputs": [],
   "source": [
    "toyota_df['Doors'] = toyota_df['Doors'].replace('three', 3)"
   ]
  },
  {
   "cell_type": "code",
   "execution_count": 24,
   "id": "67d7d03e-469c-4de3-abeb-4c7c72ef80bf",
   "metadata": {},
   "outputs": [],
   "source": [
    "toyota_df['Doors'] = toyota_df['Doors'].astype(int)"
   ]
  },
  {
   "cell_type": "code",
   "execution_count": 25,
   "id": "bfdd52de-a887-4396-a786-9d4f0edf7d6e",
   "metadata": {},
   "outputs": [
    {
     "name": "stdout",
     "output_type": "stream",
     "text": [
      "[2 3 4 5]\n"
     ]
    }
   ],
   "source": [
    "print(np.unique(toyota_df['Doors']))"
   ]
  },
  {
   "cell_type": "markdown",
   "id": "c6a6c2e3-e539-4d63-9db9-0aa799651463",
   "metadata": {},
   "source": [
    "## DAY-9 Assignment on MEAN, MEDIAN, FILLNA"
   ]
  },
  {
   "cell_type": "code",
   "execution_count": 26,
   "id": "33be7e6b-d992-46cb-87d1-40218284d28d",
   "metadata": {},
   "outputs": [
    {
     "data": {
      "text/html": [
       "<div>\n",
       "<style scoped>\n",
       "    .dataframe tbody tr th:only-of-type {\n",
       "        vertical-align: middle;\n",
       "    }\n",
       "\n",
       "    .dataframe tbody tr th {\n",
       "        vertical-align: top;\n",
       "    }\n",
       "\n",
       "    .dataframe thead th {\n",
       "        text-align: right;\n",
       "    }\n",
       "</style>\n",
       "<table border=\"1\" class=\"dataframe\">\n",
       "  <thead>\n",
       "    <tr style=\"text-align: right;\">\n",
       "      <th></th>\n",
       "      <th>Unnamed: 0</th>\n",
       "      <th>Price</th>\n",
       "      <th>Age</th>\n",
       "      <th>KM</th>\n",
       "      <th>FuelType</th>\n",
       "      <th>HP</th>\n",
       "      <th>MetColor</th>\n",
       "      <th>Automatic</th>\n",
       "      <th>CC</th>\n",
       "      <th>Doors</th>\n",
       "      <th>Weight</th>\n",
       "    </tr>\n",
       "  </thead>\n",
       "  <tbody>\n",
       "    <tr>\n",
       "      <th>0</th>\n",
       "      <td>False</td>\n",
       "      <td>False</td>\n",
       "      <td>False</td>\n",
       "      <td>False</td>\n",
       "      <td>False</td>\n",
       "      <td>False</td>\n",
       "      <td>False</td>\n",
       "      <td>False</td>\n",
       "      <td>False</td>\n",
       "      <td>False</td>\n",
       "      <td>False</td>\n",
       "    </tr>\n",
       "    <tr>\n",
       "      <th>1</th>\n",
       "      <td>False</td>\n",
       "      <td>False</td>\n",
       "      <td>False</td>\n",
       "      <td>False</td>\n",
       "      <td>False</td>\n",
       "      <td>False</td>\n",
       "      <td>False</td>\n",
       "      <td>False</td>\n",
       "      <td>False</td>\n",
       "      <td>False</td>\n",
       "      <td>False</td>\n",
       "    </tr>\n",
       "    <tr>\n",
       "      <th>2</th>\n",
       "      <td>False</td>\n",
       "      <td>False</td>\n",
       "      <td>False</td>\n",
       "      <td>False</td>\n",
       "      <td>False</td>\n",
       "      <td>False</td>\n",
       "      <td>True</td>\n",
       "      <td>False</td>\n",
       "      <td>False</td>\n",
       "      <td>False</td>\n",
       "      <td>False</td>\n",
       "    </tr>\n",
       "    <tr>\n",
       "      <th>3</th>\n",
       "      <td>False</td>\n",
       "      <td>False</td>\n",
       "      <td>False</td>\n",
       "      <td>False</td>\n",
       "      <td>False</td>\n",
       "      <td>False</td>\n",
       "      <td>False</td>\n",
       "      <td>False</td>\n",
       "      <td>False</td>\n",
       "      <td>False</td>\n",
       "      <td>False</td>\n",
       "    </tr>\n",
       "    <tr>\n",
       "      <th>4</th>\n",
       "      <td>False</td>\n",
       "      <td>False</td>\n",
       "      <td>False</td>\n",
       "      <td>False</td>\n",
       "      <td>False</td>\n",
       "      <td>False</td>\n",
       "      <td>False</td>\n",
       "      <td>False</td>\n",
       "      <td>False</td>\n",
       "      <td>False</td>\n",
       "      <td>False</td>\n",
       "    </tr>\n",
       "    <tr>\n",
       "      <th>...</th>\n",
       "      <td>...</td>\n",
       "      <td>...</td>\n",
       "      <td>...</td>\n",
       "      <td>...</td>\n",
       "      <td>...</td>\n",
       "      <td>...</td>\n",
       "      <td>...</td>\n",
       "      <td>...</td>\n",
       "      <td>...</td>\n",
       "      <td>...</td>\n",
       "      <td>...</td>\n",
       "    </tr>\n",
       "    <tr>\n",
       "      <th>1431</th>\n",
       "      <td>False</td>\n",
       "      <td>False</td>\n",
       "      <td>True</td>\n",
       "      <td>False</td>\n",
       "      <td>False</td>\n",
       "      <td>False</td>\n",
       "      <td>False</td>\n",
       "      <td>False</td>\n",
       "      <td>False</td>\n",
       "      <td>False</td>\n",
       "      <td>False</td>\n",
       "    </tr>\n",
       "    <tr>\n",
       "      <th>1432</th>\n",
       "      <td>False</td>\n",
       "      <td>False</td>\n",
       "      <td>False</td>\n",
       "      <td>True</td>\n",
       "      <td>False</td>\n",
       "      <td>False</td>\n",
       "      <td>False</td>\n",
       "      <td>False</td>\n",
       "      <td>False</td>\n",
       "      <td>False</td>\n",
       "      <td>False</td>\n",
       "    </tr>\n",
       "    <tr>\n",
       "      <th>1433</th>\n",
       "      <td>False</td>\n",
       "      <td>False</td>\n",
       "      <td>True</td>\n",
       "      <td>False</td>\n",
       "      <td>False</td>\n",
       "      <td>False</td>\n",
       "      <td>False</td>\n",
       "      <td>False</td>\n",
       "      <td>False</td>\n",
       "      <td>False</td>\n",
       "      <td>False</td>\n",
       "    </tr>\n",
       "    <tr>\n",
       "      <th>1434</th>\n",
       "      <td>False</td>\n",
       "      <td>False</td>\n",
       "      <td>False</td>\n",
       "      <td>True</td>\n",
       "      <td>True</td>\n",
       "      <td>False</td>\n",
       "      <td>False</td>\n",
       "      <td>False</td>\n",
       "      <td>False</td>\n",
       "      <td>False</td>\n",
       "      <td>False</td>\n",
       "    </tr>\n",
       "    <tr>\n",
       "      <th>1435</th>\n",
       "      <td>False</td>\n",
       "      <td>False</td>\n",
       "      <td>False</td>\n",
       "      <td>False</td>\n",
       "      <td>False</td>\n",
       "      <td>False</td>\n",
       "      <td>False</td>\n",
       "      <td>False</td>\n",
       "      <td>False</td>\n",
       "      <td>False</td>\n",
       "      <td>False</td>\n",
       "    </tr>\n",
       "  </tbody>\n",
       "</table>\n",
       "<p>1436 rows × 11 columns</p>\n",
       "</div>"
      ],
      "text/plain": [
       "      Unnamed: 0  Price    Age     KM  FuelType     HP  MetColor  Automatic  \\\n",
       "0          False  False  False  False     False  False     False      False   \n",
       "1          False  False  False  False     False  False     False      False   \n",
       "2          False  False  False  False     False  False      True      False   \n",
       "3          False  False  False  False     False  False     False      False   \n",
       "4          False  False  False  False     False  False     False      False   \n",
       "...          ...    ...    ...    ...       ...    ...       ...        ...   \n",
       "1431       False  False   True  False     False  False     False      False   \n",
       "1432       False  False  False   True     False  False     False      False   \n",
       "1433       False  False   True  False     False  False     False      False   \n",
       "1434       False  False  False   True      True  False     False      False   \n",
       "1435       False  False  False  False     False  False     False      False   \n",
       "\n",
       "         CC  Doors  Weight  \n",
       "0     False  False   False  \n",
       "1     False  False   False  \n",
       "2     False  False   False  \n",
       "3     False  False   False  \n",
       "4     False  False   False  \n",
       "...     ...    ...     ...  \n",
       "1431  False  False   False  \n",
       "1432  False  False   False  \n",
       "1433  False  False   False  \n",
       "1434  False  False   False  \n",
       "1435  False  False   False  \n",
       "\n",
       "[1436 rows x 11 columns]"
      ]
     },
     "execution_count": 26,
     "metadata": {},
     "output_type": "execute_result"
    }
   ],
   "source": [
    "## CHECKING FOR MISSING Values IN OUR dataframe or not\n",
    "\n",
    "toyota_df.isnull()"
   ]
  },
  {
   "cell_type": "code",
   "execution_count": 27,
   "id": "9c163198-23a2-43b8-9b21-e91126849906",
   "metadata": {},
   "outputs": [
    {
     "data": {
      "text/plain": [
       "Unnamed: 0      0\n",
       "Price           0\n",
       "Age           100\n",
       "KM             15\n",
       "FuelType      100\n",
       "HP              6\n",
       "MetColor      150\n",
       "Automatic       0\n",
       "CC              0\n",
       "Doors           0\n",
       "Weight          0\n",
       "dtype: int64"
      ]
     },
     "execution_count": 27,
     "metadata": {},
     "output_type": "execute_result"
    }
   ],
   "source": [
    "toyota_df.isnull().sum()"
   ]
  },
  {
   "cell_type": "code",
   "execution_count": 28,
   "id": "864baf01-d32f-4e43-8fcf-e757c32239a8",
   "metadata": {},
   "outputs": [
    {
     "data": {
      "text/plain": [
       "55.67215568862275"
      ]
     },
     "execution_count": 28,
     "metadata": {},
     "output_type": "execute_result"
    }
   ],
   "source": [
    "mean_Age = toyota_df['Age'].mean()\n",
    "\n",
    "mean_Age"
   ]
  },
  {
   "cell_type": "code",
   "execution_count": 29,
   "id": "9e54d128-6602-4ac4-9a81-6df6178682a1",
   "metadata": {},
   "outputs": [
    {
     "data": {
      "text/plain": [
       "56"
      ]
     },
     "execution_count": 29,
     "metadata": {},
     "output_type": "execute_result"
    }
   ],
   "source": [
    "round(toyota_df['Age'].mean())"
   ]
  },
  {
   "cell_type": "code",
   "execution_count": 30,
   "id": "0a9c26a6-381d-4259-a232-0afb8cca53a6",
   "metadata": {},
   "outputs": [
    {
     "data": {
      "text/plain": [
       "60.0"
      ]
     },
     "execution_count": 30,
     "metadata": {},
     "output_type": "execute_result"
    }
   ],
   "source": [
    "toyota_df['Age'].median()"
   ]
  },
  {
   "cell_type": "markdown",
   "id": "a165c0ec-6ea3-4705-a349-ece4aa9b2819",
   "metadata": {},
   "source": [
    "## Filling in the Missing Valuesin the dataframe"
   ]
  },
  {
   "cell_type": "code",
   "execution_count": 31,
   "id": "dcd14361-1789-41bb-8121-621127f1190f",
   "metadata": {},
   "outputs": [],
   "source": [
    "toyota_df['Age'] = toyota_df['Age'].fillna(mean_Age)"
   ]
  },
  {
   "cell_type": "code",
   "execution_count": 32,
   "id": "c9028b09-9134-4c9b-a849-75371db24bd5",
   "metadata": {},
   "outputs": [
    {
     "data": {
      "text/plain": [
       "0"
      ]
     },
     "execution_count": 32,
     "metadata": {},
     "output_type": "execute_result"
    }
   ],
   "source": [
    "toyota_df['Age'].isnull().sum()"
   ]
  },
  {
   "cell_type": "code",
   "execution_count": 33,
   "id": "efaf3882-8cf4-4d2a-8f65-f59e7c9e0d84",
   "metadata": {},
   "outputs": [
    {
     "data": {
      "text/plain": [
       "15"
      ]
     },
     "execution_count": 33,
     "metadata": {},
     "output_type": "execute_result"
    }
   ],
   "source": [
    "toyota_df['KM'].isnull().sum()"
   ]
  },
  {
   "cell_type": "code",
   "execution_count": 34,
   "id": "84b1e34f-ebc1-4b1a-b088-4ea823de7f75",
   "metadata": {},
   "outputs": [
    {
     "data": {
      "text/plain": [
       "Unnamed: 0      0\n",
       "Price           0\n",
       "Age             0\n",
       "KM             15\n",
       "FuelType      100\n",
       "HP              6\n",
       "MetColor      150\n",
       "Automatic       0\n",
       "CC              0\n",
       "Doors           0\n",
       "Weight          0\n",
       "dtype: int64"
      ]
     },
     "execution_count": 34,
     "metadata": {},
     "output_type": "execute_result"
    }
   ],
   "source": [
    "toyota_df.isnull().sum()"
   ]
  },
  {
   "cell_type": "code",
   "execution_count": 35,
   "id": "0a5781ac-caad-480f-a9e4-6255faf43d17",
   "metadata": {},
   "outputs": [
    {
     "data": {
      "text/plain": [
       "FuelType\n",
       "Petrol    1177\n",
       "Diesel     144\n",
       "CNG         15\n",
       "Name: count, dtype: int64"
      ]
     },
     "execution_count": 35,
     "metadata": {},
     "output_type": "execute_result"
    }
   ],
   "source": [
    "## mean_fuel = toyota_df['FuelType'].mean()\n",
    "toyota_df['FuelType'].value_counts()"
   ]
  },
  {
   "cell_type": "code",
   "execution_count": 36,
   "id": "7851762c-088d-46ac-b300-eccfd1ab8159",
   "metadata": {},
   "outputs": [
    {
     "data": {
      "text/plain": [
       "Index(['Petrol', 'Diesel', 'CNG'], dtype='object', name='FuelType')"
      ]
     },
     "execution_count": 36,
     "metadata": {},
     "output_type": "execute_result"
    }
   ],
   "source": [
    "toyota_df['FuelType'].value_counts().index"
   ]
  },
  {
   "cell_type": "code",
   "execution_count": 37,
   "id": "fc1fc6b2-b622-40af-ae1a-2636eb60b931",
   "metadata": {},
   "outputs": [
    {
     "data": {
      "text/plain": [
       "Index(['Petrol', 'Diesel', 'CNG'], dtype='object', name='FuelType')"
      ]
     },
     "execution_count": 37,
     "metadata": {},
     "output_type": "execute_result"
    }
   ],
   "source": [
    "mean_fuelType = toyota_df['FuelType'].value_counts().index\n",
    "mean_fuelType"
   ]
  },
  {
   "cell_type": "code",
   "execution_count": 38,
   "id": "6af59c5d-4b7b-4ab7-8ffa-49d2028dfc2f",
   "metadata": {},
   "outputs": [],
   "source": [
    "#toyota_df['FuelType'] = toyota_df['FuelType'].fillna(mean_fuelType)"
   ]
  },
  {
   "cell_type": "code",
   "execution_count": 39,
   "id": "c6cea3d3-2845-4054-beb0-80ae88ff6fd9",
   "metadata": {},
   "outputs": [
    {
     "data": {
      "text/plain": [
       "100"
      ]
     },
     "execution_count": 39,
     "metadata": {},
     "output_type": "execute_result"
    }
   ],
   "source": [
    "toyota_df['FuelType'].isnull().sum()"
   ]
  },
  {
   "cell_type": "code",
   "execution_count": 40,
   "id": "7a58235c-1c0c-4993-813c-81844b0822ea",
   "metadata": {},
   "outputs": [
    {
     "data": {
      "text/plain": [
       "100"
      ]
     },
     "execution_count": 40,
     "metadata": {},
     "output_type": "execute_result"
    }
   ],
   "source": [
    "toyota_df['FuelType'].isnull().sum()"
   ]
  },
  {
   "cell_type": "code",
   "execution_count": 41,
   "id": "26960a48-4e21-4d91-bba1-b3c823109032",
   "metadata": {},
   "outputs": [
    {
     "data": {
      "text/plain": [
       "MetColor\n",
       "1.0    868\n",
       "0.0    418\n",
       "Name: count, dtype: int64"
      ]
     },
     "execution_count": 41,
     "metadata": {},
     "output_type": "execute_result"
    }
   ],
   "source": [
    "toyota_df['MetColor'].value_counts()"
   ]
  },
  {
   "cell_type": "code",
   "execution_count": 42,
   "id": "0ca013eb-3f4f-4974-99b6-813af1f3aedd",
   "metadata": {},
   "outputs": [],
   "source": [
    "mean_metcolor = toyota_df['MetColor'].value_counts().index[0]"
   ]
  },
  {
   "cell_type": "code",
   "execution_count": 43,
   "id": "c0a059ad-b6e7-47e9-b0f1-57677fb9b6fb",
   "metadata": {},
   "outputs": [],
   "source": [
    "toyota_df['MetColor'] = toyota_df['MetColor'].fillna(mean_metcolor)"
   ]
  },
  {
   "cell_type": "code",
   "execution_count": 44,
   "id": "1d7c5de5-e626-4114-b46b-b68dc8f8a8fc",
   "metadata": {},
   "outputs": [
    {
     "data": {
      "text/plain": [
       "0"
      ]
     },
     "execution_count": 44,
     "metadata": {},
     "output_type": "execute_result"
    }
   ],
   "source": [
    "toyota_df['MetColor'].isnull().sum()"
   ]
  },
  {
   "cell_type": "code",
   "execution_count": 45,
   "id": "065aaa58-831c-421c-9f5d-544678f4dd4d",
   "metadata": {},
   "outputs": [
    {
     "data": {
      "text/plain": [
       "Unnamed: 0      0\n",
       "Price           0\n",
       "Age             0\n",
       "KM             15\n",
       "FuelType      100\n",
       "HP              6\n",
       "MetColor        0\n",
       "Automatic       0\n",
       "CC              0\n",
       "Doors           0\n",
       "Weight          0\n",
       "dtype: int64"
      ]
     },
     "execution_count": 45,
     "metadata": {},
     "output_type": "execute_result"
    }
   ],
   "source": [
    "toyota_df.isnull().sum()"
   ]
  },
  {
   "cell_type": "markdown",
   "id": "433b0291-2364-40b3-b4f4-14fd65b7773d",
   "metadata": {},
   "source": [
    "## Adding a new Column to (find the difference), in the form Addition "
   ]
  },
  {
   "cell_type": "code",
   "execution_count": 46,
   "id": "756d2821-3405-4b2e-b947-941bb6089d24",
   "metadata": {},
   "outputs": [],
   "source": [
    "toyota_df['KM'] = toyota_df['KM'].replace('??', np.nan)\n",
    "toyota_df['KM'] = toyota_df['KM'].astype(float)"
   ]
  },
  {
   "cell_type": "code",
   "execution_count": 47,
   "id": "c52432ec-73fc-4064-8643-2759a9cc3996",
   "metadata": {},
   "outputs": [],
   "source": [
    "toyota_df['Profit'] = toyota_df['Price'] - toyota_df['KM']"
   ]
  },
  {
   "cell_type": "code",
   "execution_count": 48,
   "id": "96688919-3d46-41b5-a6e8-060fa303b791",
   "metadata": {},
   "outputs": [
    {
     "data": {
      "text/html": [
       "<div>\n",
       "<style scoped>\n",
       "    .dataframe tbody tr th:only-of-type {\n",
       "        vertical-align: middle;\n",
       "    }\n",
       "\n",
       "    .dataframe tbody tr th {\n",
       "        vertical-align: top;\n",
       "    }\n",
       "\n",
       "    .dataframe thead th {\n",
       "        text-align: right;\n",
       "    }\n",
       "</style>\n",
       "<table border=\"1\" class=\"dataframe\">\n",
       "  <thead>\n",
       "    <tr style=\"text-align: right;\">\n",
       "      <th></th>\n",
       "      <th>Unnamed: 0</th>\n",
       "      <th>Price</th>\n",
       "      <th>Age</th>\n",
       "      <th>KM</th>\n",
       "      <th>FuelType</th>\n",
       "      <th>HP</th>\n",
       "      <th>MetColor</th>\n",
       "      <th>Automatic</th>\n",
       "      <th>CC</th>\n",
       "      <th>Doors</th>\n",
       "      <th>Weight</th>\n",
       "      <th>Profit</th>\n",
       "    </tr>\n",
       "  </thead>\n",
       "  <tbody>\n",
       "    <tr>\n",
       "      <th>0</th>\n",
       "      <td>0</td>\n",
       "      <td>13500</td>\n",
       "      <td>23.000000</td>\n",
       "      <td>46986.0</td>\n",
       "      <td>Diesel</td>\n",
       "      <td>90.0</td>\n",
       "      <td>1.0</td>\n",
       "      <td>0</td>\n",
       "      <td>2000</td>\n",
       "      <td>3</td>\n",
       "      <td>1165</td>\n",
       "      <td>-33486.0</td>\n",
       "    </tr>\n",
       "    <tr>\n",
       "      <th>1</th>\n",
       "      <td>1</td>\n",
       "      <td>13750</td>\n",
       "      <td>23.000000</td>\n",
       "      <td>72937.0</td>\n",
       "      <td>Diesel</td>\n",
       "      <td>90.0</td>\n",
       "      <td>1.0</td>\n",
       "      <td>0</td>\n",
       "      <td>2000</td>\n",
       "      <td>3</td>\n",
       "      <td>1165</td>\n",
       "      <td>-59187.0</td>\n",
       "    </tr>\n",
       "    <tr>\n",
       "      <th>2</th>\n",
       "      <td>2</td>\n",
       "      <td>13950</td>\n",
       "      <td>24.000000</td>\n",
       "      <td>41711.0</td>\n",
       "      <td>Diesel</td>\n",
       "      <td>90.0</td>\n",
       "      <td>1.0</td>\n",
       "      <td>0</td>\n",
       "      <td>2000</td>\n",
       "      <td>3</td>\n",
       "      <td>1165</td>\n",
       "      <td>-27761.0</td>\n",
       "    </tr>\n",
       "    <tr>\n",
       "      <th>3</th>\n",
       "      <td>3</td>\n",
       "      <td>14950</td>\n",
       "      <td>26.000000</td>\n",
       "      <td>48000.0</td>\n",
       "      <td>Diesel</td>\n",
       "      <td>90.0</td>\n",
       "      <td>0.0</td>\n",
       "      <td>0</td>\n",
       "      <td>2000</td>\n",
       "      <td>3</td>\n",
       "      <td>1165</td>\n",
       "      <td>-33050.0</td>\n",
       "    </tr>\n",
       "    <tr>\n",
       "      <th>4</th>\n",
       "      <td>4</td>\n",
       "      <td>13750</td>\n",
       "      <td>30.000000</td>\n",
       "      <td>38500.0</td>\n",
       "      <td>Diesel</td>\n",
       "      <td>90.0</td>\n",
       "      <td>0.0</td>\n",
       "      <td>0</td>\n",
       "      <td>2000</td>\n",
       "      <td>3</td>\n",
       "      <td>1170</td>\n",
       "      <td>-24750.0</td>\n",
       "    </tr>\n",
       "    <tr>\n",
       "      <th>...</th>\n",
       "      <td>...</td>\n",
       "      <td>...</td>\n",
       "      <td>...</td>\n",
       "      <td>...</td>\n",
       "      <td>...</td>\n",
       "      <td>...</td>\n",
       "      <td>...</td>\n",
       "      <td>...</td>\n",
       "      <td>...</td>\n",
       "      <td>...</td>\n",
       "      <td>...</td>\n",
       "      <td>...</td>\n",
       "    </tr>\n",
       "    <tr>\n",
       "      <th>1431</th>\n",
       "      <td>1431</td>\n",
       "      <td>7500</td>\n",
       "      <td>55.672156</td>\n",
       "      <td>20544.0</td>\n",
       "      <td>Petrol</td>\n",
       "      <td>86.0</td>\n",
       "      <td>1.0</td>\n",
       "      <td>0</td>\n",
       "      <td>1300</td>\n",
       "      <td>3</td>\n",
       "      <td>1025</td>\n",
       "      <td>-13044.0</td>\n",
       "    </tr>\n",
       "    <tr>\n",
       "      <th>1432</th>\n",
       "      <td>1432</td>\n",
       "      <td>10845</td>\n",
       "      <td>72.000000</td>\n",
       "      <td>NaN</td>\n",
       "      <td>Petrol</td>\n",
       "      <td>86.0</td>\n",
       "      <td>0.0</td>\n",
       "      <td>0</td>\n",
       "      <td>1300</td>\n",
       "      <td>3</td>\n",
       "      <td>1015</td>\n",
       "      <td>NaN</td>\n",
       "    </tr>\n",
       "    <tr>\n",
       "      <th>1433</th>\n",
       "      <td>1433</td>\n",
       "      <td>8500</td>\n",
       "      <td>55.672156</td>\n",
       "      <td>17016.0</td>\n",
       "      <td>Petrol</td>\n",
       "      <td>86.0</td>\n",
       "      <td>0.0</td>\n",
       "      <td>0</td>\n",
       "      <td>1300</td>\n",
       "      <td>3</td>\n",
       "      <td>1015</td>\n",
       "      <td>-8516.0</td>\n",
       "    </tr>\n",
       "    <tr>\n",
       "      <th>1434</th>\n",
       "      <td>1434</td>\n",
       "      <td>7250</td>\n",
       "      <td>70.000000</td>\n",
       "      <td>NaN</td>\n",
       "      <td>NaN</td>\n",
       "      <td>86.0</td>\n",
       "      <td>1.0</td>\n",
       "      <td>0</td>\n",
       "      <td>1300</td>\n",
       "      <td>3</td>\n",
       "      <td>1015</td>\n",
       "      <td>NaN</td>\n",
       "    </tr>\n",
       "    <tr>\n",
       "      <th>1435</th>\n",
       "      <td>1435</td>\n",
       "      <td>6950</td>\n",
       "      <td>76.000000</td>\n",
       "      <td>1.0</td>\n",
       "      <td>Petrol</td>\n",
       "      <td>110.0</td>\n",
       "      <td>0.0</td>\n",
       "      <td>0</td>\n",
       "      <td>1600</td>\n",
       "      <td>5</td>\n",
       "      <td>1114</td>\n",
       "      <td>6949.0</td>\n",
       "    </tr>\n",
       "  </tbody>\n",
       "</table>\n",
       "<p>1436 rows × 12 columns</p>\n",
       "</div>"
      ],
      "text/plain": [
       "      Unnamed: 0  Price        Age       KM FuelType     HP  MetColor  \\\n",
       "0              0  13500  23.000000  46986.0   Diesel   90.0       1.0   \n",
       "1              1  13750  23.000000  72937.0   Diesel   90.0       1.0   \n",
       "2              2  13950  24.000000  41711.0   Diesel   90.0       1.0   \n",
       "3              3  14950  26.000000  48000.0   Diesel   90.0       0.0   \n",
       "4              4  13750  30.000000  38500.0   Diesel   90.0       0.0   \n",
       "...          ...    ...        ...      ...      ...    ...       ...   \n",
       "1431        1431   7500  55.672156  20544.0   Petrol   86.0       1.0   \n",
       "1432        1432  10845  72.000000      NaN   Petrol   86.0       0.0   \n",
       "1433        1433   8500  55.672156  17016.0   Petrol   86.0       0.0   \n",
       "1434        1434   7250  70.000000      NaN      NaN   86.0       1.0   \n",
       "1435        1435   6950  76.000000      1.0   Petrol  110.0       0.0   \n",
       "\n",
       "      Automatic    CC  Doors  Weight   Profit  \n",
       "0             0  2000      3    1165 -33486.0  \n",
       "1             0  2000      3    1165 -59187.0  \n",
       "2             0  2000      3    1165 -27761.0  \n",
       "3             0  2000      3    1165 -33050.0  \n",
       "4             0  2000      3    1170 -24750.0  \n",
       "...         ...   ...    ...     ...      ...  \n",
       "1431          0  1300      3    1025 -13044.0  \n",
       "1432          0  1300      3    1015      NaN  \n",
       "1433          0  1300      3    1015  -8516.0  \n",
       "1434          0  1300      3    1015      NaN  \n",
       "1435          0  1600      5    1114   6949.0  \n",
       "\n",
       "[1436 rows x 12 columns]"
      ]
     },
     "execution_count": 48,
     "metadata": {},
     "output_type": "execute_result"
    }
   ],
   "source": [
    "toyota_df"
   ]
  },
  {
   "cell_type": "code",
   "execution_count": 49,
   "id": "2007066d-55ad-4f5c-a437-02263849649d",
   "metadata": {},
   "outputs": [],
   "source": [
    "numerical_cols = ['Price', 'Age', 'KM', 'HP', 'CC', 'Weight', 'Profit']\n",
    "\n",
    "categorical = ['Doors', 'FuelType', 'MetColor']"
   ]
  },
  {
   "cell_type": "code",
   "execution_count": 50,
   "id": "13d5317c-9c09-4321-a379-93bcce4ec0d7",
   "metadata": {},
   "outputs": [
    {
     "data": {
      "text/html": [
       "<div>\n",
       "<style scoped>\n",
       "    .dataframe tbody tr th:only-of-type {\n",
       "        vertical-align: middle;\n",
       "    }\n",
       "\n",
       "    .dataframe tbody tr th {\n",
       "        vertical-align: top;\n",
       "    }\n",
       "\n",
       "    .dataframe thead th {\n",
       "        text-align: right;\n",
       "    }\n",
       "</style>\n",
       "<table border=\"1\" class=\"dataframe\">\n",
       "  <thead>\n",
       "    <tr style=\"text-align: right;\">\n",
       "      <th></th>\n",
       "      <th>Price</th>\n",
       "      <th>Age</th>\n",
       "      <th>KM</th>\n",
       "      <th>HP</th>\n",
       "      <th>CC</th>\n",
       "      <th>Weight</th>\n",
       "      <th>Profit</th>\n",
       "    </tr>\n",
       "  </thead>\n",
       "  <tbody>\n",
       "    <tr>\n",
       "      <th>0</th>\n",
       "      <td>13500</td>\n",
       "      <td>23.000000</td>\n",
       "      <td>46986.0</td>\n",
       "      <td>90.0</td>\n",
       "      <td>2000</td>\n",
       "      <td>1165</td>\n",
       "      <td>-33486.0</td>\n",
       "    </tr>\n",
       "    <tr>\n",
       "      <th>1</th>\n",
       "      <td>13750</td>\n",
       "      <td>23.000000</td>\n",
       "      <td>72937.0</td>\n",
       "      <td>90.0</td>\n",
       "      <td>2000</td>\n",
       "      <td>1165</td>\n",
       "      <td>-59187.0</td>\n",
       "    </tr>\n",
       "    <tr>\n",
       "      <th>2</th>\n",
       "      <td>13950</td>\n",
       "      <td>24.000000</td>\n",
       "      <td>41711.0</td>\n",
       "      <td>90.0</td>\n",
       "      <td>2000</td>\n",
       "      <td>1165</td>\n",
       "      <td>-27761.0</td>\n",
       "    </tr>\n",
       "    <tr>\n",
       "      <th>3</th>\n",
       "      <td>14950</td>\n",
       "      <td>26.000000</td>\n",
       "      <td>48000.0</td>\n",
       "      <td>90.0</td>\n",
       "      <td>2000</td>\n",
       "      <td>1165</td>\n",
       "      <td>-33050.0</td>\n",
       "    </tr>\n",
       "    <tr>\n",
       "      <th>4</th>\n",
       "      <td>13750</td>\n",
       "      <td>30.000000</td>\n",
       "      <td>38500.0</td>\n",
       "      <td>90.0</td>\n",
       "      <td>2000</td>\n",
       "      <td>1170</td>\n",
       "      <td>-24750.0</td>\n",
       "    </tr>\n",
       "    <tr>\n",
       "      <th>...</th>\n",
       "      <td>...</td>\n",
       "      <td>...</td>\n",
       "      <td>...</td>\n",
       "      <td>...</td>\n",
       "      <td>...</td>\n",
       "      <td>...</td>\n",
       "      <td>...</td>\n",
       "    </tr>\n",
       "    <tr>\n",
       "      <th>1431</th>\n",
       "      <td>7500</td>\n",
       "      <td>55.672156</td>\n",
       "      <td>20544.0</td>\n",
       "      <td>86.0</td>\n",
       "      <td>1300</td>\n",
       "      <td>1025</td>\n",
       "      <td>-13044.0</td>\n",
       "    </tr>\n",
       "    <tr>\n",
       "      <th>1432</th>\n",
       "      <td>10845</td>\n",
       "      <td>72.000000</td>\n",
       "      <td>NaN</td>\n",
       "      <td>86.0</td>\n",
       "      <td>1300</td>\n",
       "      <td>1015</td>\n",
       "      <td>NaN</td>\n",
       "    </tr>\n",
       "    <tr>\n",
       "      <th>1433</th>\n",
       "      <td>8500</td>\n",
       "      <td>55.672156</td>\n",
       "      <td>17016.0</td>\n",
       "      <td>86.0</td>\n",
       "      <td>1300</td>\n",
       "      <td>1015</td>\n",
       "      <td>-8516.0</td>\n",
       "    </tr>\n",
       "    <tr>\n",
       "      <th>1434</th>\n",
       "      <td>7250</td>\n",
       "      <td>70.000000</td>\n",
       "      <td>NaN</td>\n",
       "      <td>86.0</td>\n",
       "      <td>1300</td>\n",
       "      <td>1015</td>\n",
       "      <td>NaN</td>\n",
       "    </tr>\n",
       "    <tr>\n",
       "      <th>1435</th>\n",
       "      <td>6950</td>\n",
       "      <td>76.000000</td>\n",
       "      <td>1.0</td>\n",
       "      <td>110.0</td>\n",
       "      <td>1600</td>\n",
       "      <td>1114</td>\n",
       "      <td>6949.0</td>\n",
       "    </tr>\n",
       "  </tbody>\n",
       "</table>\n",
       "<p>1436 rows × 7 columns</p>\n",
       "</div>"
      ],
      "text/plain": [
       "      Price        Age       KM     HP    CC  Weight   Profit\n",
       "0     13500  23.000000  46986.0   90.0  2000    1165 -33486.0\n",
       "1     13750  23.000000  72937.0   90.0  2000    1165 -59187.0\n",
       "2     13950  24.000000  41711.0   90.0  2000    1165 -27761.0\n",
       "3     14950  26.000000  48000.0   90.0  2000    1165 -33050.0\n",
       "4     13750  30.000000  38500.0   90.0  2000    1170 -24750.0\n",
       "...     ...        ...      ...    ...   ...     ...      ...\n",
       "1431   7500  55.672156  20544.0   86.0  1300    1025 -13044.0\n",
       "1432  10845  72.000000      NaN   86.0  1300    1015      NaN\n",
       "1433   8500  55.672156  17016.0   86.0  1300    1015  -8516.0\n",
       "1434   7250  70.000000      NaN   86.0  1300    1015      NaN\n",
       "1435   6950  76.000000      1.0  110.0  1600    1114   6949.0\n",
       "\n",
       "[1436 rows x 7 columns]"
      ]
     },
     "execution_count": 50,
     "metadata": {},
     "output_type": "execute_result"
    }
   ],
   "source": [
    "toyota_df[numerical_cols]"
   ]
  },
  {
   "cell_type": "code",
   "execution_count": 51,
   "id": "d9fe66d8-604e-43cb-99c5-77445189ac1a",
   "metadata": {},
   "outputs": [
    {
     "data": {
      "text/html": [
       "<div>\n",
       "<style scoped>\n",
       "    .dataframe tbody tr th:only-of-type {\n",
       "        vertical-align: middle;\n",
       "    }\n",
       "\n",
       "    .dataframe tbody tr th {\n",
       "        vertical-align: top;\n",
       "    }\n",
       "\n",
       "    .dataframe thead th {\n",
       "        text-align: right;\n",
       "    }\n",
       "</style>\n",
       "<table border=\"1\" class=\"dataframe\">\n",
       "  <thead>\n",
       "    <tr style=\"text-align: right;\">\n",
       "      <th></th>\n",
       "      <th>Doors</th>\n",
       "      <th>FuelType</th>\n",
       "      <th>MetColor</th>\n",
       "    </tr>\n",
       "  </thead>\n",
       "  <tbody>\n",
       "    <tr>\n",
       "      <th>0</th>\n",
       "      <td>3</td>\n",
       "      <td>Diesel</td>\n",
       "      <td>1.0</td>\n",
       "    </tr>\n",
       "    <tr>\n",
       "      <th>1</th>\n",
       "      <td>3</td>\n",
       "      <td>Diesel</td>\n",
       "      <td>1.0</td>\n",
       "    </tr>\n",
       "    <tr>\n",
       "      <th>2</th>\n",
       "      <td>3</td>\n",
       "      <td>Diesel</td>\n",
       "      <td>1.0</td>\n",
       "    </tr>\n",
       "    <tr>\n",
       "      <th>3</th>\n",
       "      <td>3</td>\n",
       "      <td>Diesel</td>\n",
       "      <td>0.0</td>\n",
       "    </tr>\n",
       "    <tr>\n",
       "      <th>4</th>\n",
       "      <td>3</td>\n",
       "      <td>Diesel</td>\n",
       "      <td>0.0</td>\n",
       "    </tr>\n",
       "    <tr>\n",
       "      <th>...</th>\n",
       "      <td>...</td>\n",
       "      <td>...</td>\n",
       "      <td>...</td>\n",
       "    </tr>\n",
       "    <tr>\n",
       "      <th>1431</th>\n",
       "      <td>3</td>\n",
       "      <td>Petrol</td>\n",
       "      <td>1.0</td>\n",
       "    </tr>\n",
       "    <tr>\n",
       "      <th>1432</th>\n",
       "      <td>3</td>\n",
       "      <td>Petrol</td>\n",
       "      <td>0.0</td>\n",
       "    </tr>\n",
       "    <tr>\n",
       "      <th>1433</th>\n",
       "      <td>3</td>\n",
       "      <td>Petrol</td>\n",
       "      <td>0.0</td>\n",
       "    </tr>\n",
       "    <tr>\n",
       "      <th>1434</th>\n",
       "      <td>3</td>\n",
       "      <td>NaN</td>\n",
       "      <td>1.0</td>\n",
       "    </tr>\n",
       "    <tr>\n",
       "      <th>1435</th>\n",
       "      <td>5</td>\n",
       "      <td>Petrol</td>\n",
       "      <td>0.0</td>\n",
       "    </tr>\n",
       "  </tbody>\n",
       "</table>\n",
       "<p>1436 rows × 3 columns</p>\n",
       "</div>"
      ],
      "text/plain": [
       "      Doors FuelType  MetColor\n",
       "0         3   Diesel       1.0\n",
       "1         3   Diesel       1.0\n",
       "2         3   Diesel       1.0\n",
       "3         3   Diesel       0.0\n",
       "4         3   Diesel       0.0\n",
       "...     ...      ...       ...\n",
       "1431      3   Petrol       1.0\n",
       "1432      3   Petrol       0.0\n",
       "1433      3   Petrol       0.0\n",
       "1434      3      NaN       1.0\n",
       "1435      5   Petrol       0.0\n",
       "\n",
       "[1436 rows x 3 columns]"
      ]
     },
     "execution_count": 51,
     "metadata": {},
     "output_type": "execute_result"
    }
   ],
   "source": [
    "toyota_df[categorical]"
   ]
  },
  {
   "cell_type": "markdown",
   "id": "3701e340-6472-493f-ba60-81c1748aea32",
   "metadata": {},
   "source": [
    "### FILLING IN THE MISSING VALUES"
   ]
  },
  {
   "cell_type": "code",
   "execution_count": 52,
   "id": "218ea4d6-427b-4677-b3be-d5ede58f2f68",
   "metadata": {},
   "outputs": [],
   "source": [
    "## del toyota_df [\"Unnamed: 0\"]"
   ]
  },
  {
   "cell_type": "code",
   "execution_count": 53,
   "id": "78116f3e-5a33-4f4d-a9f0-cf58b0b11342",
   "metadata": {},
   "outputs": [
    {
     "data": {
      "text/html": [
       "<div>\n",
       "<style scoped>\n",
       "    .dataframe tbody tr th:only-of-type {\n",
       "        vertical-align: middle;\n",
       "    }\n",
       "\n",
       "    .dataframe tbody tr th {\n",
       "        vertical-align: top;\n",
       "    }\n",
       "\n",
       "    .dataframe thead th {\n",
       "        text-align: right;\n",
       "    }\n",
       "</style>\n",
       "<table border=\"1\" class=\"dataframe\">\n",
       "  <thead>\n",
       "    <tr style=\"text-align: right;\">\n",
       "      <th></th>\n",
       "      <th>Unnamed: 0</th>\n",
       "      <th>Price</th>\n",
       "      <th>Age</th>\n",
       "      <th>KM</th>\n",
       "      <th>FuelType</th>\n",
       "      <th>HP</th>\n",
       "      <th>MetColor</th>\n",
       "      <th>Automatic</th>\n",
       "      <th>CC</th>\n",
       "      <th>Doors</th>\n",
       "      <th>Weight</th>\n",
       "      <th>Profit</th>\n",
       "    </tr>\n",
       "  </thead>\n",
       "  <tbody>\n",
       "    <tr>\n",
       "      <th>0</th>\n",
       "      <td>0</td>\n",
       "      <td>13500</td>\n",
       "      <td>23.000000</td>\n",
       "      <td>46986.0</td>\n",
       "      <td>Diesel</td>\n",
       "      <td>90.0</td>\n",
       "      <td>1.0</td>\n",
       "      <td>0</td>\n",
       "      <td>2000</td>\n",
       "      <td>3</td>\n",
       "      <td>1165</td>\n",
       "      <td>-33486.0</td>\n",
       "    </tr>\n",
       "    <tr>\n",
       "      <th>1</th>\n",
       "      <td>1</td>\n",
       "      <td>13750</td>\n",
       "      <td>23.000000</td>\n",
       "      <td>72937.0</td>\n",
       "      <td>Diesel</td>\n",
       "      <td>90.0</td>\n",
       "      <td>1.0</td>\n",
       "      <td>0</td>\n",
       "      <td>2000</td>\n",
       "      <td>3</td>\n",
       "      <td>1165</td>\n",
       "      <td>-59187.0</td>\n",
       "    </tr>\n",
       "    <tr>\n",
       "      <th>2</th>\n",
       "      <td>2</td>\n",
       "      <td>13950</td>\n",
       "      <td>24.000000</td>\n",
       "      <td>41711.0</td>\n",
       "      <td>Diesel</td>\n",
       "      <td>90.0</td>\n",
       "      <td>1.0</td>\n",
       "      <td>0</td>\n",
       "      <td>2000</td>\n",
       "      <td>3</td>\n",
       "      <td>1165</td>\n",
       "      <td>-27761.0</td>\n",
       "    </tr>\n",
       "    <tr>\n",
       "      <th>3</th>\n",
       "      <td>3</td>\n",
       "      <td>14950</td>\n",
       "      <td>26.000000</td>\n",
       "      <td>48000.0</td>\n",
       "      <td>Diesel</td>\n",
       "      <td>90.0</td>\n",
       "      <td>0.0</td>\n",
       "      <td>0</td>\n",
       "      <td>2000</td>\n",
       "      <td>3</td>\n",
       "      <td>1165</td>\n",
       "      <td>-33050.0</td>\n",
       "    </tr>\n",
       "    <tr>\n",
       "      <th>4</th>\n",
       "      <td>4</td>\n",
       "      <td>13750</td>\n",
       "      <td>30.000000</td>\n",
       "      <td>38500.0</td>\n",
       "      <td>Diesel</td>\n",
       "      <td>90.0</td>\n",
       "      <td>0.0</td>\n",
       "      <td>0</td>\n",
       "      <td>2000</td>\n",
       "      <td>3</td>\n",
       "      <td>1170</td>\n",
       "      <td>-24750.0</td>\n",
       "    </tr>\n",
       "    <tr>\n",
       "      <th>...</th>\n",
       "      <td>...</td>\n",
       "      <td>...</td>\n",
       "      <td>...</td>\n",
       "      <td>...</td>\n",
       "      <td>...</td>\n",
       "      <td>...</td>\n",
       "      <td>...</td>\n",
       "      <td>...</td>\n",
       "      <td>...</td>\n",
       "      <td>...</td>\n",
       "      <td>...</td>\n",
       "      <td>...</td>\n",
       "    </tr>\n",
       "    <tr>\n",
       "      <th>1431</th>\n",
       "      <td>1431</td>\n",
       "      <td>7500</td>\n",
       "      <td>55.672156</td>\n",
       "      <td>20544.0</td>\n",
       "      <td>Petrol</td>\n",
       "      <td>86.0</td>\n",
       "      <td>1.0</td>\n",
       "      <td>0</td>\n",
       "      <td>1300</td>\n",
       "      <td>3</td>\n",
       "      <td>1025</td>\n",
       "      <td>-13044.0</td>\n",
       "    </tr>\n",
       "    <tr>\n",
       "      <th>1432</th>\n",
       "      <td>1432</td>\n",
       "      <td>10845</td>\n",
       "      <td>72.000000</td>\n",
       "      <td>NaN</td>\n",
       "      <td>Petrol</td>\n",
       "      <td>86.0</td>\n",
       "      <td>0.0</td>\n",
       "      <td>0</td>\n",
       "      <td>1300</td>\n",
       "      <td>3</td>\n",
       "      <td>1015</td>\n",
       "      <td>NaN</td>\n",
       "    </tr>\n",
       "    <tr>\n",
       "      <th>1433</th>\n",
       "      <td>1433</td>\n",
       "      <td>8500</td>\n",
       "      <td>55.672156</td>\n",
       "      <td>17016.0</td>\n",
       "      <td>Petrol</td>\n",
       "      <td>86.0</td>\n",
       "      <td>0.0</td>\n",
       "      <td>0</td>\n",
       "      <td>1300</td>\n",
       "      <td>3</td>\n",
       "      <td>1015</td>\n",
       "      <td>-8516.0</td>\n",
       "    </tr>\n",
       "    <tr>\n",
       "      <th>1434</th>\n",
       "      <td>1434</td>\n",
       "      <td>7250</td>\n",
       "      <td>70.000000</td>\n",
       "      <td>NaN</td>\n",
       "      <td>NaN</td>\n",
       "      <td>86.0</td>\n",
       "      <td>1.0</td>\n",
       "      <td>0</td>\n",
       "      <td>1300</td>\n",
       "      <td>3</td>\n",
       "      <td>1015</td>\n",
       "      <td>NaN</td>\n",
       "    </tr>\n",
       "    <tr>\n",
       "      <th>1435</th>\n",
       "      <td>1435</td>\n",
       "      <td>6950</td>\n",
       "      <td>76.000000</td>\n",
       "      <td>1.0</td>\n",
       "      <td>Petrol</td>\n",
       "      <td>110.0</td>\n",
       "      <td>0.0</td>\n",
       "      <td>0</td>\n",
       "      <td>1600</td>\n",
       "      <td>5</td>\n",
       "      <td>1114</td>\n",
       "      <td>6949.0</td>\n",
       "    </tr>\n",
       "  </tbody>\n",
       "</table>\n",
       "<p>1436 rows × 12 columns</p>\n",
       "</div>"
      ],
      "text/plain": [
       "      Unnamed: 0  Price        Age       KM FuelType     HP  MetColor  \\\n",
       "0              0  13500  23.000000  46986.0   Diesel   90.0       1.0   \n",
       "1              1  13750  23.000000  72937.0   Diesel   90.0       1.0   \n",
       "2              2  13950  24.000000  41711.0   Diesel   90.0       1.0   \n",
       "3              3  14950  26.000000  48000.0   Diesel   90.0       0.0   \n",
       "4              4  13750  30.000000  38500.0   Diesel   90.0       0.0   \n",
       "...          ...    ...        ...      ...      ...    ...       ...   \n",
       "1431        1431   7500  55.672156  20544.0   Petrol   86.0       1.0   \n",
       "1432        1432  10845  72.000000      NaN   Petrol   86.0       0.0   \n",
       "1433        1433   8500  55.672156  17016.0   Petrol   86.0       0.0   \n",
       "1434        1434   7250  70.000000      NaN      NaN   86.0       1.0   \n",
       "1435        1435   6950  76.000000      1.0   Petrol  110.0       0.0   \n",
       "\n",
       "      Automatic    CC  Doors  Weight   Profit  \n",
       "0             0  2000      3    1165 -33486.0  \n",
       "1             0  2000      3    1165 -59187.0  \n",
       "2             0  2000      3    1165 -27761.0  \n",
       "3             0  2000      3    1165 -33050.0  \n",
       "4             0  2000      3    1170 -24750.0  \n",
       "...         ...   ...    ...     ...      ...  \n",
       "1431          0  1300      3    1025 -13044.0  \n",
       "1432          0  1300      3    1015      NaN  \n",
       "1433          0  1300      3    1015  -8516.0  \n",
       "1434          0  1300      3    1015      NaN  \n",
       "1435          0  1600      5    1114   6949.0  \n",
       "\n",
       "[1436 rows x 12 columns]"
      ]
     },
     "execution_count": 53,
     "metadata": {},
     "output_type": "execute_result"
    }
   ],
   "source": [
    "toyota_df"
   ]
  },
  {
   "cell_type": "code",
   "execution_count": 54,
   "id": "07cd63aa-a37d-4b1f-b1f5-5ca0a70fa3fc",
   "metadata": {},
   "outputs": [],
   "source": [
    "mean_age = toyota_df['Age'].mean()"
   ]
  },
  {
   "cell_type": "code",
   "execution_count": 55,
   "id": "b555bc66-4eb9-40cd-8bc5-790876e066da",
   "metadata": {},
   "outputs": [],
   "source": [
    "toyota_df['Age'] = toyota_df['Age'].fillna(mean_age)"
   ]
  },
  {
   "cell_type": "code",
   "execution_count": 56,
   "id": "86d60069-c5dd-4284-b353-0188babb55db",
   "metadata": {},
   "outputs": [
    {
     "data": {
      "text/plain": [
       "0"
      ]
     },
     "execution_count": 56,
     "metadata": {},
     "output_type": "execute_result"
    }
   ],
   "source": [
    "toyota_df['Age'].isnull().sum()"
   ]
  },
  {
   "cell_type": "code",
   "execution_count": 57,
   "id": "b5485593-1888-4fea-a9d3-a768dc123cb5",
   "metadata": {},
   "outputs": [],
   "source": [
    "median_age = toyota_df['KM'].median()"
   ]
  },
  {
   "cell_type": "code",
   "execution_count": 58,
   "id": "c8ddf810-541c-4a15-8179-42948a5e274f",
   "metadata": {},
   "outputs": [
    {
     "data": {
      "text/plain": [
       "15"
      ]
     },
     "execution_count": 58,
     "metadata": {},
     "output_type": "execute_result"
    }
   ],
   "source": [
    "toyota_df['KM'].isnull().sum()"
   ]
  },
  {
   "cell_type": "code",
   "execution_count": 59,
   "id": "a9e38444-6ea5-46bf-a4bd-8fe612d5fb34",
   "metadata": {},
   "outputs": [],
   "source": [
    "toyota_df['KM'] = toyota_df['KM'].fillna(median_age)"
   ]
  },
  {
   "cell_type": "code",
   "execution_count": 60,
   "id": "eb393a25-f213-4105-87e1-9734bf97c13f",
   "metadata": {},
   "outputs": [
    {
     "data": {
      "text/plain": [
       "0"
      ]
     },
     "execution_count": 60,
     "metadata": {},
     "output_type": "execute_result"
    }
   ],
   "source": [
    "toyota_df['KM'].isnull().sum()"
   ]
  },
  {
   "cell_type": "code",
   "execution_count": 61,
   "id": "98b28653-ff1b-4542-a21b-96e87e4e81be",
   "metadata": {},
   "outputs": [
    {
     "data": {
      "text/plain": [
       "MetColor\n",
       "1.0    1018\n",
       "0.0     418\n",
       "Name: count, dtype: int64"
      ]
     },
     "execution_count": 61,
     "metadata": {},
     "output_type": "execute_result"
    }
   ],
   "source": [
    "toyota_df['MetColor'].value_counts()\n",
    "##toyota_df['MetColor']= toyota_df['MetColor'].fillna(mean_mc)\n",
    "##toyota_df['MetColor'].isnull().sum()"
   ]
  },
  {
   "cell_type": "code",
   "execution_count": 62,
   "id": "4aea4963-ecc4-45ff-8e49-86726e83ef36",
   "metadata": {},
   "outputs": [
    {
     "data": {
      "text/html": [
       "<div>\n",
       "<style scoped>\n",
       "    .dataframe tbody tr th:only-of-type {\n",
       "        vertical-align: middle;\n",
       "    }\n",
       "\n",
       "    .dataframe tbody tr th {\n",
       "        vertical-align: top;\n",
       "    }\n",
       "\n",
       "    .dataframe thead th {\n",
       "        text-align: right;\n",
       "    }\n",
       "</style>\n",
       "<table border=\"1\" class=\"dataframe\">\n",
       "  <thead>\n",
       "    <tr style=\"text-align: right;\">\n",
       "      <th></th>\n",
       "      <th>Unnamed: 0</th>\n",
       "      <th>Price</th>\n",
       "      <th>Age</th>\n",
       "      <th>KM</th>\n",
       "      <th>FuelType</th>\n",
       "      <th>HP</th>\n",
       "      <th>MetColor</th>\n",
       "      <th>Automatic</th>\n",
       "      <th>CC</th>\n",
       "      <th>Doors</th>\n",
       "      <th>Weight</th>\n",
       "      <th>Profit</th>\n",
       "    </tr>\n",
       "  </thead>\n",
       "  <tbody>\n",
       "    <tr>\n",
       "      <th>0</th>\n",
       "      <td>0</td>\n",
       "      <td>13500</td>\n",
       "      <td>23.000000</td>\n",
       "      <td>46986.0</td>\n",
       "      <td>Diesel</td>\n",
       "      <td>90.0</td>\n",
       "      <td>1.0</td>\n",
       "      <td>0</td>\n",
       "      <td>2000</td>\n",
       "      <td>3</td>\n",
       "      <td>1165</td>\n",
       "      <td>-33486.0</td>\n",
       "    </tr>\n",
       "    <tr>\n",
       "      <th>1</th>\n",
       "      <td>1</td>\n",
       "      <td>13750</td>\n",
       "      <td>23.000000</td>\n",
       "      <td>72937.0</td>\n",
       "      <td>Diesel</td>\n",
       "      <td>90.0</td>\n",
       "      <td>1.0</td>\n",
       "      <td>0</td>\n",
       "      <td>2000</td>\n",
       "      <td>3</td>\n",
       "      <td>1165</td>\n",
       "      <td>-59187.0</td>\n",
       "    </tr>\n",
       "    <tr>\n",
       "      <th>2</th>\n",
       "      <td>2</td>\n",
       "      <td>13950</td>\n",
       "      <td>24.000000</td>\n",
       "      <td>41711.0</td>\n",
       "      <td>Diesel</td>\n",
       "      <td>90.0</td>\n",
       "      <td>1.0</td>\n",
       "      <td>0</td>\n",
       "      <td>2000</td>\n",
       "      <td>3</td>\n",
       "      <td>1165</td>\n",
       "      <td>-27761.0</td>\n",
       "    </tr>\n",
       "    <tr>\n",
       "      <th>3</th>\n",
       "      <td>3</td>\n",
       "      <td>14950</td>\n",
       "      <td>26.000000</td>\n",
       "      <td>48000.0</td>\n",
       "      <td>Diesel</td>\n",
       "      <td>90.0</td>\n",
       "      <td>0.0</td>\n",
       "      <td>0</td>\n",
       "      <td>2000</td>\n",
       "      <td>3</td>\n",
       "      <td>1165</td>\n",
       "      <td>-33050.0</td>\n",
       "    </tr>\n",
       "    <tr>\n",
       "      <th>4</th>\n",
       "      <td>4</td>\n",
       "      <td>13750</td>\n",
       "      <td>30.000000</td>\n",
       "      <td>38500.0</td>\n",
       "      <td>Diesel</td>\n",
       "      <td>90.0</td>\n",
       "      <td>0.0</td>\n",
       "      <td>0</td>\n",
       "      <td>2000</td>\n",
       "      <td>3</td>\n",
       "      <td>1170</td>\n",
       "      <td>-24750.0</td>\n",
       "    </tr>\n",
       "    <tr>\n",
       "      <th>...</th>\n",
       "      <td>...</td>\n",
       "      <td>...</td>\n",
       "      <td>...</td>\n",
       "      <td>...</td>\n",
       "      <td>...</td>\n",
       "      <td>...</td>\n",
       "      <td>...</td>\n",
       "      <td>...</td>\n",
       "      <td>...</td>\n",
       "      <td>...</td>\n",
       "      <td>...</td>\n",
       "      <td>...</td>\n",
       "    </tr>\n",
       "    <tr>\n",
       "      <th>1431</th>\n",
       "      <td>1431</td>\n",
       "      <td>7500</td>\n",
       "      <td>55.672156</td>\n",
       "      <td>20544.0</td>\n",
       "      <td>Petrol</td>\n",
       "      <td>86.0</td>\n",
       "      <td>1.0</td>\n",
       "      <td>0</td>\n",
       "      <td>1300</td>\n",
       "      <td>3</td>\n",
       "      <td>1025</td>\n",
       "      <td>-13044.0</td>\n",
       "    </tr>\n",
       "    <tr>\n",
       "      <th>1432</th>\n",
       "      <td>1432</td>\n",
       "      <td>10845</td>\n",
       "      <td>72.000000</td>\n",
       "      <td>63634.0</td>\n",
       "      <td>Petrol</td>\n",
       "      <td>86.0</td>\n",
       "      <td>0.0</td>\n",
       "      <td>0</td>\n",
       "      <td>1300</td>\n",
       "      <td>3</td>\n",
       "      <td>1015</td>\n",
       "      <td>NaN</td>\n",
       "    </tr>\n",
       "    <tr>\n",
       "      <th>1433</th>\n",
       "      <td>1433</td>\n",
       "      <td>8500</td>\n",
       "      <td>55.672156</td>\n",
       "      <td>17016.0</td>\n",
       "      <td>Petrol</td>\n",
       "      <td>86.0</td>\n",
       "      <td>0.0</td>\n",
       "      <td>0</td>\n",
       "      <td>1300</td>\n",
       "      <td>3</td>\n",
       "      <td>1015</td>\n",
       "      <td>-8516.0</td>\n",
       "    </tr>\n",
       "    <tr>\n",
       "      <th>1434</th>\n",
       "      <td>1434</td>\n",
       "      <td>7250</td>\n",
       "      <td>70.000000</td>\n",
       "      <td>63634.0</td>\n",
       "      <td>NaN</td>\n",
       "      <td>86.0</td>\n",
       "      <td>1.0</td>\n",
       "      <td>0</td>\n",
       "      <td>1300</td>\n",
       "      <td>3</td>\n",
       "      <td>1015</td>\n",
       "      <td>NaN</td>\n",
       "    </tr>\n",
       "    <tr>\n",
       "      <th>1435</th>\n",
       "      <td>1435</td>\n",
       "      <td>6950</td>\n",
       "      <td>76.000000</td>\n",
       "      <td>1.0</td>\n",
       "      <td>Petrol</td>\n",
       "      <td>110.0</td>\n",
       "      <td>0.0</td>\n",
       "      <td>0</td>\n",
       "      <td>1600</td>\n",
       "      <td>5</td>\n",
       "      <td>1114</td>\n",
       "      <td>6949.0</td>\n",
       "    </tr>\n",
       "  </tbody>\n",
       "</table>\n",
       "<p>1436 rows × 12 columns</p>\n",
       "</div>"
      ],
      "text/plain": [
       "      Unnamed: 0  Price        Age       KM FuelType     HP  MetColor  \\\n",
       "0              0  13500  23.000000  46986.0   Diesel   90.0       1.0   \n",
       "1              1  13750  23.000000  72937.0   Diesel   90.0       1.0   \n",
       "2              2  13950  24.000000  41711.0   Diesel   90.0       1.0   \n",
       "3              3  14950  26.000000  48000.0   Diesel   90.0       0.0   \n",
       "4              4  13750  30.000000  38500.0   Diesel   90.0       0.0   \n",
       "...          ...    ...        ...      ...      ...    ...       ...   \n",
       "1431        1431   7500  55.672156  20544.0   Petrol   86.0       1.0   \n",
       "1432        1432  10845  72.000000  63634.0   Petrol   86.0       0.0   \n",
       "1433        1433   8500  55.672156  17016.0   Petrol   86.0       0.0   \n",
       "1434        1434   7250  70.000000  63634.0      NaN   86.0       1.0   \n",
       "1435        1435   6950  76.000000      1.0   Petrol  110.0       0.0   \n",
       "\n",
       "      Automatic    CC  Doors  Weight   Profit  \n",
       "0             0  2000      3    1165 -33486.0  \n",
       "1             0  2000      3    1165 -59187.0  \n",
       "2             0  2000      3    1165 -27761.0  \n",
       "3             0  2000      3    1165 -33050.0  \n",
       "4             0  2000      3    1170 -24750.0  \n",
       "...         ...   ...    ...     ...      ...  \n",
       "1431          0  1300      3    1025 -13044.0  \n",
       "1432          0  1300      3    1015      NaN  \n",
       "1433          0  1300      3    1015  -8516.0  \n",
       "1434          0  1300      3    1015      NaN  \n",
       "1435          0  1600      5    1114   6949.0  \n",
       "\n",
       "[1436 rows x 12 columns]"
      ]
     },
     "execution_count": 62,
     "metadata": {},
     "output_type": "execute_result"
    }
   ],
   "source": [
    "toyota_df"
   ]
  },
  {
   "cell_type": "code",
   "execution_count": 63,
   "id": "260c04b7-61ed-4f3f-b826-19b71435420d",
   "metadata": {},
   "outputs": [],
   "source": [
    "toyota_df['Profit'] = toyota_df['Profit'].fillna(median_age)"
   ]
  },
  {
   "cell_type": "code",
   "execution_count": 64,
   "id": "61057e86-1023-460e-a32f-3e95715c1320",
   "metadata": {},
   "outputs": [
    {
     "data": {
      "text/html": [
       "<div>\n",
       "<style scoped>\n",
       "    .dataframe tbody tr th:only-of-type {\n",
       "        vertical-align: middle;\n",
       "    }\n",
       "\n",
       "    .dataframe tbody tr th {\n",
       "        vertical-align: top;\n",
       "    }\n",
       "\n",
       "    .dataframe thead th {\n",
       "        text-align: right;\n",
       "    }\n",
       "</style>\n",
       "<table border=\"1\" class=\"dataframe\">\n",
       "  <thead>\n",
       "    <tr style=\"text-align: right;\">\n",
       "      <th></th>\n",
       "      <th>Unnamed: 0</th>\n",
       "      <th>Price</th>\n",
       "      <th>Age</th>\n",
       "      <th>KM</th>\n",
       "      <th>FuelType</th>\n",
       "      <th>HP</th>\n",
       "      <th>MetColor</th>\n",
       "      <th>Automatic</th>\n",
       "      <th>CC</th>\n",
       "      <th>Doors</th>\n",
       "      <th>Weight</th>\n",
       "      <th>Profit</th>\n",
       "    </tr>\n",
       "  </thead>\n",
       "  <tbody>\n",
       "    <tr>\n",
       "      <th>0</th>\n",
       "      <td>0</td>\n",
       "      <td>13500</td>\n",
       "      <td>23.000000</td>\n",
       "      <td>46986.0</td>\n",
       "      <td>Diesel</td>\n",
       "      <td>90.0</td>\n",
       "      <td>1.0</td>\n",
       "      <td>0</td>\n",
       "      <td>2000</td>\n",
       "      <td>3</td>\n",
       "      <td>1165</td>\n",
       "      <td>-33486.0</td>\n",
       "    </tr>\n",
       "    <tr>\n",
       "      <th>1</th>\n",
       "      <td>1</td>\n",
       "      <td>13750</td>\n",
       "      <td>23.000000</td>\n",
       "      <td>72937.0</td>\n",
       "      <td>Diesel</td>\n",
       "      <td>90.0</td>\n",
       "      <td>1.0</td>\n",
       "      <td>0</td>\n",
       "      <td>2000</td>\n",
       "      <td>3</td>\n",
       "      <td>1165</td>\n",
       "      <td>-59187.0</td>\n",
       "    </tr>\n",
       "    <tr>\n",
       "      <th>2</th>\n",
       "      <td>2</td>\n",
       "      <td>13950</td>\n",
       "      <td>24.000000</td>\n",
       "      <td>41711.0</td>\n",
       "      <td>Diesel</td>\n",
       "      <td>90.0</td>\n",
       "      <td>1.0</td>\n",
       "      <td>0</td>\n",
       "      <td>2000</td>\n",
       "      <td>3</td>\n",
       "      <td>1165</td>\n",
       "      <td>-27761.0</td>\n",
       "    </tr>\n",
       "    <tr>\n",
       "      <th>3</th>\n",
       "      <td>3</td>\n",
       "      <td>14950</td>\n",
       "      <td>26.000000</td>\n",
       "      <td>48000.0</td>\n",
       "      <td>Diesel</td>\n",
       "      <td>90.0</td>\n",
       "      <td>0.0</td>\n",
       "      <td>0</td>\n",
       "      <td>2000</td>\n",
       "      <td>3</td>\n",
       "      <td>1165</td>\n",
       "      <td>-33050.0</td>\n",
       "    </tr>\n",
       "    <tr>\n",
       "      <th>4</th>\n",
       "      <td>4</td>\n",
       "      <td>13750</td>\n",
       "      <td>30.000000</td>\n",
       "      <td>38500.0</td>\n",
       "      <td>Diesel</td>\n",
       "      <td>90.0</td>\n",
       "      <td>0.0</td>\n",
       "      <td>0</td>\n",
       "      <td>2000</td>\n",
       "      <td>3</td>\n",
       "      <td>1170</td>\n",
       "      <td>-24750.0</td>\n",
       "    </tr>\n",
       "    <tr>\n",
       "      <th>...</th>\n",
       "      <td>...</td>\n",
       "      <td>...</td>\n",
       "      <td>...</td>\n",
       "      <td>...</td>\n",
       "      <td>...</td>\n",
       "      <td>...</td>\n",
       "      <td>...</td>\n",
       "      <td>...</td>\n",
       "      <td>...</td>\n",
       "      <td>...</td>\n",
       "      <td>...</td>\n",
       "      <td>...</td>\n",
       "    </tr>\n",
       "    <tr>\n",
       "      <th>1431</th>\n",
       "      <td>1431</td>\n",
       "      <td>7500</td>\n",
       "      <td>55.672156</td>\n",
       "      <td>20544.0</td>\n",
       "      <td>Petrol</td>\n",
       "      <td>86.0</td>\n",
       "      <td>1.0</td>\n",
       "      <td>0</td>\n",
       "      <td>1300</td>\n",
       "      <td>3</td>\n",
       "      <td>1025</td>\n",
       "      <td>-13044.0</td>\n",
       "    </tr>\n",
       "    <tr>\n",
       "      <th>1432</th>\n",
       "      <td>1432</td>\n",
       "      <td>10845</td>\n",
       "      <td>72.000000</td>\n",
       "      <td>63634.0</td>\n",
       "      <td>Petrol</td>\n",
       "      <td>86.0</td>\n",
       "      <td>0.0</td>\n",
       "      <td>0</td>\n",
       "      <td>1300</td>\n",
       "      <td>3</td>\n",
       "      <td>1015</td>\n",
       "      <td>63634.0</td>\n",
       "    </tr>\n",
       "    <tr>\n",
       "      <th>1433</th>\n",
       "      <td>1433</td>\n",
       "      <td>8500</td>\n",
       "      <td>55.672156</td>\n",
       "      <td>17016.0</td>\n",
       "      <td>Petrol</td>\n",
       "      <td>86.0</td>\n",
       "      <td>0.0</td>\n",
       "      <td>0</td>\n",
       "      <td>1300</td>\n",
       "      <td>3</td>\n",
       "      <td>1015</td>\n",
       "      <td>-8516.0</td>\n",
       "    </tr>\n",
       "    <tr>\n",
       "      <th>1434</th>\n",
       "      <td>1434</td>\n",
       "      <td>7250</td>\n",
       "      <td>70.000000</td>\n",
       "      <td>63634.0</td>\n",
       "      <td>NaN</td>\n",
       "      <td>86.0</td>\n",
       "      <td>1.0</td>\n",
       "      <td>0</td>\n",
       "      <td>1300</td>\n",
       "      <td>3</td>\n",
       "      <td>1015</td>\n",
       "      <td>63634.0</td>\n",
       "    </tr>\n",
       "    <tr>\n",
       "      <th>1435</th>\n",
       "      <td>1435</td>\n",
       "      <td>6950</td>\n",
       "      <td>76.000000</td>\n",
       "      <td>1.0</td>\n",
       "      <td>Petrol</td>\n",
       "      <td>110.0</td>\n",
       "      <td>0.0</td>\n",
       "      <td>0</td>\n",
       "      <td>1600</td>\n",
       "      <td>5</td>\n",
       "      <td>1114</td>\n",
       "      <td>6949.0</td>\n",
       "    </tr>\n",
       "  </tbody>\n",
       "</table>\n",
       "<p>1436 rows × 12 columns</p>\n",
       "</div>"
      ],
      "text/plain": [
       "      Unnamed: 0  Price        Age       KM FuelType     HP  MetColor  \\\n",
       "0              0  13500  23.000000  46986.0   Diesel   90.0       1.0   \n",
       "1              1  13750  23.000000  72937.0   Diesel   90.0       1.0   \n",
       "2              2  13950  24.000000  41711.0   Diesel   90.0       1.0   \n",
       "3              3  14950  26.000000  48000.0   Diesel   90.0       0.0   \n",
       "4              4  13750  30.000000  38500.0   Diesel   90.0       0.0   \n",
       "...          ...    ...        ...      ...      ...    ...       ...   \n",
       "1431        1431   7500  55.672156  20544.0   Petrol   86.0       1.0   \n",
       "1432        1432  10845  72.000000  63634.0   Petrol   86.0       0.0   \n",
       "1433        1433   8500  55.672156  17016.0   Petrol   86.0       0.0   \n",
       "1434        1434   7250  70.000000  63634.0      NaN   86.0       1.0   \n",
       "1435        1435   6950  76.000000      1.0   Petrol  110.0       0.0   \n",
       "\n",
       "      Automatic    CC  Doors  Weight   Profit  \n",
       "0             0  2000      3    1165 -33486.0  \n",
       "1             0  2000      3    1165 -59187.0  \n",
       "2             0  2000      3    1165 -27761.0  \n",
       "3             0  2000      3    1165 -33050.0  \n",
       "4             0  2000      3    1170 -24750.0  \n",
       "...         ...   ...    ...     ...      ...  \n",
       "1431          0  1300      3    1025 -13044.0  \n",
       "1432          0  1300      3    1015  63634.0  \n",
       "1433          0  1300      3    1015  -8516.0  \n",
       "1434          0  1300      3    1015  63634.0  \n",
       "1435          0  1600      5    1114   6949.0  \n",
       "\n",
       "[1436 rows x 12 columns]"
      ]
     },
     "execution_count": 64,
     "metadata": {},
     "output_type": "execute_result"
    }
   ],
   "source": [
    "toyota_df"
   ]
  },
  {
   "cell_type": "markdown",
   "id": "67a8694b-cf53-4304-981c-876319fa7fc6",
   "metadata": {},
   "source": [
    "## LECTURERS POINT "
   ]
  },
  {
   "cell_type": "code",
   "execution_count": 65,
   "id": "fbf34355-1029-4931-b044-37394a2734f4",
   "metadata": {},
   "outputs": [],
   "source": [
    "# toyota_df['Age'] = toyota_df['Age'].fillna(toyota_df['Age'].mean())\n",
    "# toyota_df['Age'].isnull().sum()"
   ]
  },
  {
   "cell_type": "code",
   "execution_count": 66,
   "id": "60855e29-a633-4ef2-bb2b-039fdb06e5de",
   "metadata": {},
   "outputs": [],
   "source": [
    "# toyota_df['KM'] = toyota_df['KM'].fillna(toyota_df['KM'].mean())\n",
    "# toyota_df['KM'].isnull().sum()"
   ]
  },
  {
   "cell_type": "code",
   "execution_count": 67,
   "id": "cf3dbe62-d9f4-487f-8b88-58a35ad06419",
   "metadata": {},
   "outputs": [],
   "source": [
    "# toyota_df['MetColor'] = toyota_df['MetColor'].fillna(toyota_df['MetColor'].value_counts().index[0])\n",
    "# toyota_df['MetColor'].isnull().sum()"
   ]
  },
  {
   "cell_type": "code",
   "execution_count": 68,
   "id": "054c1b88-3994-48bc-870e-cb217dd3f41e",
   "metadata": {},
   "outputs": [],
   "source": [
    "cat_cols = ['MetColor','Automatic','Doors']\n",
    "\n",
    "num_cols = ['Price','Age','KM', 'HP','CC','Weight']"
   ]
  },
  {
   "cell_type": "code",
   "execution_count": 69,
   "id": "80813c95-d806-4ebf-b81f-6c3cd77ae767",
   "metadata": {},
   "outputs": [],
   "source": [
    "cat_df = toyota_df[cat_cols]\n",
    "\n",
    "num_df = toyota_df[num_cols]"
   ]
  },
  {
   "cell_type": "markdown",
   "id": "33eda479-b690-4f1e-8c65-6ea790540d0d",
   "metadata": {},
   "source": [
    "### DAY 10 - EDA Exploratory analysis\n",
    "#### Target and Features\n",
    "## Descriptive Analysis\n",
    "- Total Price, Highest Price, and Lowest Price"
   ]
  },
  {
   "cell_type": "code",
   "execution_count": 70,
   "id": "e54525ff-5341-4c54-b61a-f758f82d8682",
   "metadata": {},
   "outputs": [
    {
     "data": {
      "text/plain": [
       "15409464"
      ]
     },
     "execution_count": 70,
     "metadata": {},
     "output_type": "execute_result"
    }
   ],
   "source": [
    "toyota_df['Price'].sum()"
   ]
  },
  {
   "cell_type": "code",
   "execution_count": 71,
   "id": "2e539ec0-ecf0-4815-aa40-81aab1d4be04",
   "metadata": {},
   "outputs": [
    {
     "data": {
      "text/plain": [
       "4350"
      ]
     },
     "execution_count": 71,
     "metadata": {},
     "output_type": "execute_result"
    }
   ],
   "source": [
    "toyota_df['Price'].min()"
   ]
  },
  {
   "cell_type": "code",
   "execution_count": 72,
   "id": "ca565d47-9beb-4bf4-822e-a84e249e68fa",
   "metadata": {},
   "outputs": [
    {
     "data": {
      "text/plain": [
       "32500"
      ]
     },
     "execution_count": 72,
     "metadata": {},
     "output_type": "execute_result"
    }
   ],
   "source": [
    "toyota_df['Price'].max()"
   ]
  },
  {
   "cell_type": "code",
   "execution_count": 73,
   "id": "52d453a6-435b-491f-acfc-982733ce1df4",
   "metadata": {},
   "outputs": [
    {
     "data": {
      "text/html": [
       "<div>\n",
       "<style scoped>\n",
       "    .dataframe tbody tr th:only-of-type {\n",
       "        vertical-align: middle;\n",
       "    }\n",
       "\n",
       "    .dataframe tbody tr th {\n",
       "        vertical-align: top;\n",
       "    }\n",
       "\n",
       "    .dataframe thead th {\n",
       "        text-align: right;\n",
       "    }\n",
       "</style>\n",
       "<table border=\"1\" class=\"dataframe\">\n",
       "  <thead>\n",
       "    <tr style=\"text-align: right;\">\n",
       "      <th></th>\n",
       "      <th>Unnamed: 0</th>\n",
       "      <th>Price</th>\n",
       "      <th>Age</th>\n",
       "      <th>KM</th>\n",
       "      <th>HP</th>\n",
       "      <th>MetColor</th>\n",
       "      <th>Automatic</th>\n",
       "      <th>CC</th>\n",
       "      <th>Doors</th>\n",
       "      <th>Weight</th>\n",
       "      <th>Profit</th>\n",
       "    </tr>\n",
       "  </thead>\n",
       "  <tbody>\n",
       "    <tr>\n",
       "      <th>count</th>\n",
       "      <td>1436.000000</td>\n",
       "      <td>1436.000000</td>\n",
       "      <td>1436.000000</td>\n",
       "      <td>1436.000000</td>\n",
       "      <td>1430.000000</td>\n",
       "      <td>1436.000000</td>\n",
       "      <td>1436.000000</td>\n",
       "      <td>1436.000000</td>\n",
       "      <td>1436.000000</td>\n",
       "      <td>1436.00000</td>\n",
       "      <td>1436.000000</td>\n",
       "    </tr>\n",
       "    <tr>\n",
       "      <th>mean</th>\n",
       "      <td>717.500000</td>\n",
       "      <td>10730.824513</td>\n",
       "      <td>55.672156</td>\n",
       "      <td>68594.873259</td>\n",
       "      <td>101.478322</td>\n",
       "      <td>0.708914</td>\n",
       "      <td>0.055710</td>\n",
       "      <td>1566.827994</td>\n",
       "      <td>4.033426</td>\n",
       "      <td>1072.45961</td>\n",
       "      <td>-56672.596797</td>\n",
       "    </tr>\n",
       "    <tr>\n",
       "      <th>std</th>\n",
       "      <td>414.681806</td>\n",
       "      <td>3626.964585</td>\n",
       "      <td>17.930380</td>\n",
       "      <td>37140.890566</td>\n",
       "      <td>14.768255</td>\n",
       "      <td>0.454421</td>\n",
       "      <td>0.229441</td>\n",
       "      <td>187.182436</td>\n",
       "      <td>0.952677</td>\n",
       "      <td>52.64112</td>\n",
       "      <td>41194.670835</td>\n",
       "    </tr>\n",
       "    <tr>\n",
       "      <th>min</th>\n",
       "      <td>0.000000</td>\n",
       "      <td>4350.000000</td>\n",
       "      <td>1.000000</td>\n",
       "      <td>1.000000</td>\n",
       "      <td>69.000000</td>\n",
       "      <td>0.000000</td>\n",
       "      <td>0.000000</td>\n",
       "      <td>1300.000000</td>\n",
       "      <td>2.000000</td>\n",
       "      <td>1000.00000</td>\n",
       "      <td>-236050.000000</td>\n",
       "    </tr>\n",
       "    <tr>\n",
       "      <th>25%</th>\n",
       "      <td>358.750000</td>\n",
       "      <td>8450.000000</td>\n",
       "      <td>44.000000</td>\n",
       "      <td>43505.750000</td>\n",
       "      <td>90.000000</td>\n",
       "      <td>0.000000</td>\n",
       "      <td>0.000000</td>\n",
       "      <td>1400.000000</td>\n",
       "      <td>3.000000</td>\n",
       "      <td>1040.00000</td>\n",
       "      <td>-77602.750000</td>\n",
       "    </tr>\n",
       "    <tr>\n",
       "      <th>50%</th>\n",
       "      <td>717.500000</td>\n",
       "      <td>9900.000000</td>\n",
       "      <td>59.000000</td>\n",
       "      <td>63634.000000</td>\n",
       "      <td>110.000000</td>\n",
       "      <td>1.000000</td>\n",
       "      <td>0.000000</td>\n",
       "      <td>1600.000000</td>\n",
       "      <td>4.000000</td>\n",
       "      <td>1070.00000</td>\n",
       "      <td>-53287.500000</td>\n",
       "    </tr>\n",
       "    <tr>\n",
       "      <th>75%</th>\n",
       "      <td>1076.250000</td>\n",
       "      <td>11950.000000</td>\n",
       "      <td>68.000000</td>\n",
       "      <td>86916.000000</td>\n",
       "      <td>110.000000</td>\n",
       "      <td>1.000000</td>\n",
       "      <td>0.000000</td>\n",
       "      <td>1600.000000</td>\n",
       "      <td>5.000000</td>\n",
       "      <td>1085.00000</td>\n",
       "      <td>-30773.500000</td>\n",
       "    </tr>\n",
       "    <tr>\n",
       "      <th>max</th>\n",
       "      <td>1435.000000</td>\n",
       "      <td>32500.000000</td>\n",
       "      <td>80.000000</td>\n",
       "      <td>243000.000000</td>\n",
       "      <td>192.000000</td>\n",
       "      <td>1.000000</td>\n",
       "      <td>1.000000</td>\n",
       "      <td>2000.000000</td>\n",
       "      <td>5.000000</td>\n",
       "      <td>1615.00000</td>\n",
       "      <td>63634.000000</td>\n",
       "    </tr>\n",
       "  </tbody>\n",
       "</table>\n",
       "</div>"
      ],
      "text/plain": [
       "        Unnamed: 0         Price          Age             KM           HP  \\\n",
       "count  1436.000000   1436.000000  1436.000000    1436.000000  1430.000000   \n",
       "mean    717.500000  10730.824513    55.672156   68594.873259   101.478322   \n",
       "std     414.681806   3626.964585    17.930380   37140.890566    14.768255   \n",
       "min       0.000000   4350.000000     1.000000       1.000000    69.000000   \n",
       "25%     358.750000   8450.000000    44.000000   43505.750000    90.000000   \n",
       "50%     717.500000   9900.000000    59.000000   63634.000000   110.000000   \n",
       "75%    1076.250000  11950.000000    68.000000   86916.000000   110.000000   \n",
       "max    1435.000000  32500.000000    80.000000  243000.000000   192.000000   \n",
       "\n",
       "          MetColor    Automatic           CC        Doors      Weight  \\\n",
       "count  1436.000000  1436.000000  1436.000000  1436.000000  1436.00000   \n",
       "mean      0.708914     0.055710  1566.827994     4.033426  1072.45961   \n",
       "std       0.454421     0.229441   187.182436     0.952677    52.64112   \n",
       "min       0.000000     0.000000  1300.000000     2.000000  1000.00000   \n",
       "25%       0.000000     0.000000  1400.000000     3.000000  1040.00000   \n",
       "50%       1.000000     0.000000  1600.000000     4.000000  1070.00000   \n",
       "75%       1.000000     0.000000  1600.000000     5.000000  1085.00000   \n",
       "max       1.000000     1.000000  2000.000000     5.000000  1615.00000   \n",
       "\n",
       "              Profit  \n",
       "count    1436.000000  \n",
       "mean   -56672.596797  \n",
       "std     41194.670835  \n",
       "min   -236050.000000  \n",
       "25%    -77602.750000  \n",
       "50%    -53287.500000  \n",
       "75%    -30773.500000  \n",
       "max     63634.000000  "
      ]
     },
     "execution_count": 73,
     "metadata": {},
     "output_type": "execute_result"
    }
   ],
   "source": [
    "toyota_df.describe()"
   ]
  },
  {
   "cell_type": "code",
   "execution_count": 74,
   "id": "0fde44c2-a9b0-470e-855c-7caf2b98a21c",
   "metadata": {},
   "outputs": [
    {
     "data": {
      "text/html": [
       "<div>\n",
       "<style scoped>\n",
       "    .dataframe tbody tr th:only-of-type {\n",
       "        vertical-align: middle;\n",
       "    }\n",
       "\n",
       "    .dataframe tbody tr th {\n",
       "        vertical-align: top;\n",
       "    }\n",
       "\n",
       "    .dataframe thead th {\n",
       "        text-align: right;\n",
       "    }\n",
       "</style>\n",
       "<table border=\"1\" class=\"dataframe\">\n",
       "  <thead>\n",
       "    <tr style=\"text-align: right;\">\n",
       "      <th></th>\n",
       "      <th>Price</th>\n",
       "      <th>Age</th>\n",
       "      <th>KM</th>\n",
       "      <th>HP</th>\n",
       "      <th>CC</th>\n",
       "      <th>Weight</th>\n",
       "    </tr>\n",
       "  </thead>\n",
       "  <tbody>\n",
       "    <tr>\n",
       "      <th>Price</th>\n",
       "      <td>1.000000</td>\n",
       "      <td>-0.845111</td>\n",
       "      <td>-0.565926</td>\n",
       "      <td>0.309902</td>\n",
       "      <td>0.165067</td>\n",
       "      <td>0.581198</td>\n",
       "    </tr>\n",
       "    <tr>\n",
       "      <th>Age</th>\n",
       "      <td>-0.845111</td>\n",
       "      <td>1.000000</td>\n",
       "      <td>0.495609</td>\n",
       "      <td>-0.153498</td>\n",
       "      <td>-0.116255</td>\n",
       "      <td>-0.442055</td>\n",
       "    </tr>\n",
       "    <tr>\n",
       "      <th>KM</th>\n",
       "      <td>-0.565926</td>\n",
       "      <td>0.495609</td>\n",
       "      <td>1.000000</td>\n",
       "      <td>-0.333035</td>\n",
       "      <td>0.296305</td>\n",
       "      <td>-0.026476</td>\n",
       "    </tr>\n",
       "    <tr>\n",
       "      <th>HP</th>\n",
       "      <td>0.309902</td>\n",
       "      <td>-0.153498</td>\n",
       "      <td>-0.333035</td>\n",
       "      <td>1.000000</td>\n",
       "      <td>0.053758</td>\n",
       "      <td>0.086737</td>\n",
       "    </tr>\n",
       "    <tr>\n",
       "      <th>CC</th>\n",
       "      <td>0.165067</td>\n",
       "      <td>-0.116255</td>\n",
       "      <td>0.296305</td>\n",
       "      <td>0.053758</td>\n",
       "      <td>1.000000</td>\n",
       "      <td>0.651450</td>\n",
       "    </tr>\n",
       "    <tr>\n",
       "      <th>Weight</th>\n",
       "      <td>0.581198</td>\n",
       "      <td>-0.442055</td>\n",
       "      <td>-0.026476</td>\n",
       "      <td>0.086737</td>\n",
       "      <td>0.651450</td>\n",
       "      <td>1.000000</td>\n",
       "    </tr>\n",
       "  </tbody>\n",
       "</table>\n",
       "</div>"
      ],
      "text/plain": [
       "           Price       Age        KM        HP        CC    Weight\n",
       "Price   1.000000 -0.845111 -0.565926  0.309902  0.165067  0.581198\n",
       "Age    -0.845111  1.000000  0.495609 -0.153498 -0.116255 -0.442055\n",
       "KM     -0.565926  0.495609  1.000000 -0.333035  0.296305 -0.026476\n",
       "HP      0.309902 -0.153498 -0.333035  1.000000  0.053758  0.086737\n",
       "CC      0.165067 -0.116255  0.296305  0.053758  1.000000  0.651450\n",
       "Weight  0.581198 -0.442055 -0.026476  0.086737  0.651450  1.000000"
      ]
     },
     "execution_count": 74,
     "metadata": {},
     "output_type": "execute_result"
    }
   ],
   "source": [
    "corr_toyota_df = num_df.corr()\n",
    "\n",
    "corr_toyota_df"
   ]
  },
  {
   "cell_type": "code",
   "execution_count": 75,
   "id": "08239a00-06d2-4cc9-b98a-c5aef917ffb3",
   "metadata": {},
   "outputs": [
    {
     "data": {
      "image/png": "[encoded data removed]",
      "text/plain": [
       "<Figure size 640x480 with 1 Axes>"
      ]
     },
     "metadata": {},
     "output_type": "display_data"
    }
   ],
   "source": [
    "plt.scatter(toyota_df['Age'], toyota_df['Price'], c = 'red')\n",
    "\n",
    "plt.title('Relation between Age and Price of a car.')\n",
    "\n",
    "plt.ylabel('Price (Dollars)')\n",
    "\n",
    "plt.xlabel('Age (Months)')\n",
    "\n",
    "plt.savefig('age_price_rel.png')\n",
    "\n",
    "plt.show()"
   ]
  },
  {
   "cell_type": "markdown",
   "id": "4d076baa-a921-4773-9996-ce6af4b709ed",
   "metadata": {},
   "source": [
    "### RELATIONSHIP BETWEEN PRICE AND MILEAGE"
   ]
  },
  {
   "cell_type": "code",
   "execution_count": 76,
   "id": "a8a9365c-681f-4534-9c9c-c12451c9f752",
   "metadata": {},
   "outputs": [
    {
     "data": {
      "image/png": "[encoded data removed]",
      "text/plain": [
       "<Figure size 640x480 with 1 Axes>"
      ]
     },
     "metadata": {},
     "output_type": "display_data"
    }
   ],
   "source": [
    "plt.scatter(toyota_df['KM'], toyota_df['Price'], c = 'blue')\n",
    "\n",
    "plt.title('Relation between Mileage and Price of a car.')\n",
    "\n",
    "plt.ylabel('Price (Dollars)')\n",
    "\n",
    "plt.xlabel('KM (Kilometers)')\n",
    "\n",
    "plt.savefig('km_price_rel.png')\n",
    "\n",
    "plt.show()"
   ]
  },
  {
   "cell_type": "markdown",
   "id": "432b64ce-7c64-480e-973e-07efcdd966e1",
   "metadata": {},
   "source": [
    "### RELATIONSHIP BETWEEN PRICE AND HP"
   ]
  },
  {
   "cell_type": "code",
   "execution_count": 77,
   "id": "2781f73c-922b-4c61-b647-49c091ae9e74",
   "metadata": {},
   "outputs": [
    {
     "data": {
      "image/png": "[encoded data removed]",
      "text/plain": [
       "<Figure size 640x480 with 1 Axes>"
      ]
     },
     "metadata": {},
     "output_type": "display_data"
    }
   ],
   "source": [
    "plt.scatter(toyota_df['HP'], toyota_df['Price'], c = 'green')\n",
    "\n",
    "plt.title('Relation between Hp and Price of a car.')\n",
    "\n",
    "plt.ylabel('Price (Dollars)')\n",
    "\n",
    "plt.xlabel('HP (rpm)')\n",
    "\n",
    "plt.savefig('hp_price_rel.png')\n",
    "\n",
    "plt.show()"
   ]
  },
  {
   "cell_type": "markdown",
   "id": "b42fdab1-7bf0-4b87-a9d6-477dc1d86532",
   "metadata": {},
   "source": [
    "### RELATIONSHIP BETWEEN PRICE AND CC"
   ]
  },
  {
   "cell_type": "code",
   "execution_count": 78,
   "id": "a8893d45-ee8c-48f6-ab4a-bba6a4e6bc0f",
   "metadata": {},
   "outputs": [
    {
     "data": {
      "image/png": "[encoded data removed]",
      "text/plain": [
       "<Figure size 640x480 with 1 Axes>"
      ]
     },
     "metadata": {},
     "output_type": "display_data"
    }
   ],
   "source": [
    "plt.scatter(toyota_df['CC'], toyota_df['Price'], c = 'cyan')\n",
    "\n",
    "plt.title('Relation between CC and Price of a car.')\n",
    "\n",
    "plt.ylabel('Price (Dollars)')\n",
    "\n",
    "plt.xlabel('CC (cubiccentimeter)')\n",
    "\n",
    "plt.savefig('cc_price_rel.png')\n",
    "\n",
    "plt.show()"
   ]
  },
  {
   "cell_type": "code",
   "execution_count": null,
   "id": "cd9dab20-ac85-4345-874b-4ff13e51b2d2",
   "metadata": {},
   "outputs": [],
   "source": []
  },
  {
   "cell_type": "code",
   "execution_count": 79,
   "id": "728d9e72-cd96-443b-8063-86120b289ef6",
   "metadata": {},
   "outputs": [
    {
     "data": {
      "image/png": "[encoded data removed]",
      "text/plain": [
       "<Figure size 640x480 with 1 Axes>"
      ]
     },
     "metadata": {},
     "output_type": "display_data"
    }
   ],
   "source": [
    "plt.scatter(toyota_df['Weight'], toyota_df['Price'], c = 'magenta')\n",
    "\n",
    "plt.title('Relation between Weight and Price of a car.')\n",
    "\n",
    "plt.ylabel('Price (Dollars)')\n",
    "\n",
    "plt.xlabel('Weight (kg)')\n",
    "\n",
    "plt.savefig('weight_price_rel.png')\n",
    "\n",
    "plt.show()"
   ]
  },
  {
   "cell_type": "markdown",
   "id": "ee1e117f-a4f7-4301-a6c7-b3d1015b916c",
   "metadata": {},
   "source": [
    "## Histogram visualization (Frequency distribution of price)"
   ]
  },
  {
   "cell_type": "code",
   "execution_count": 91,
   "id": "5a1f0f46-2d58-4cf5-9e38-802a7e791462",
   "metadata": {},
   "outputs": [
    {
     "data": {
      "image/png": "[encoded data removed]",
      "text/plain": [
       "<Figure size 640x480 with 1 Axes>"
      ]
     },
     "metadata": {},
     "output_type": "display_data"
    }
   ],
   "source": [
    "plt.hist(toyota_df['Price'], bins=20)\n",
    "\n",
    "plt.title('Histogram Distribution of price.')\n",
    "\n",
    "plt.ylabel('Frequency')\n",
    "\n",
    "plt.xlabel('Price range')\n",
    "\n",
    "plt.savefig('Hist_price_rel.png')\n",
    "\n",
    "plt.show()"
   ]
  },
  {
   "cell_type": "markdown",
   "id": "dc675917-edbc-4af2-b553-4778b4b73186",
   "metadata": {},
   "source": [
    "### Histogram distribution of KM"
   ]
  },
  {
   "cell_type": "code",
   "execution_count": 81,
   "id": "1a30693e-a05e-4db7-b1b8-ee6cee381f07",
   "metadata": {},
   "outputs": [
    {
     "data": {
      "image/png": "[encoded data removed]",
      "text/plain": [
       "<Figure size 640x480 with 1 Axes>"
      ]
     },
     "metadata": {},
     "output_type": "display_data"
    }
   ],
   "source": [
    "plt.hist(toyota_df['KM'])\n",
    "\n",
    "plt.title('Histogram Distribution of Mileage.')\n",
    "\n",
    "plt.ylabel('Mileage')\n",
    "\n",
    "plt.xlabel('KM range')\n",
    "\n",
    "plt.savefig('Hist_KM_rel.png')\n",
    "\n",
    "plt.show()"
   ]
  },
  {
   "cell_type": "markdown",
   "id": "d94f991f-11bd-4f3e-9f46-2c62ba4497ab",
   "metadata": {},
   "source": [
    "### Histogram Distribution on Age"
   ]
  },
  {
   "cell_type": "code",
   "execution_count": 82,
   "id": "bb8f1e1b-0ef1-4738-8971-e85d035394e9",
   "metadata": {},
   "outputs": [
    {
     "data": {
      "image/png": "[encoded data removed]",
      "text/plain": [
       "<Figure size 640x480 with 1 Axes>"
      ]
     },
     "metadata": {},
     "output_type": "display_data"
    }
   ],
   "source": [
    "plt.hist(toyota_df['Age'])\n",
    "\n",
    "plt.title('Histogram Distribution of Age.')\n",
    "\n",
    "plt.ylabel('Age Difference')\n",
    "\n",
    "plt.xlabel('Age range')\n",
    "\n",
    "plt.savefig('Hist_Age_rel.png')\n",
    "\n",
    "plt.show()"
   ]
  },
  {
   "cell_type": "markdown",
   "id": "4ab317ee-ed39-4b37-a9a2-ab6805b09434",
   "metadata": {},
   "source": [
    "### Histogram for MetColor Distribution"
   ]
  },
  {
   "cell_type": "code",
   "execution_count": 83,
   "id": "35accf78-ef7d-480e-972c-e704d9b1004a",
   "metadata": {},
   "outputs": [
    {
     "data": {
      "image/png": "[encoded data removed]",
      "text/plain": [
       "<Figure size 640x480 with 1 Axes>"
      ]
     },
     "metadata": {},
     "output_type": "display_data"
    }
   ],
   "source": [
    "plt.hist(toyota_df['HP'])\n",
    "\n",
    "plt.title('Histogram Distribution of HP.')\n",
    "\n",
    "plt.ylabel('Horse power')\n",
    "\n",
    "plt.xlabel('HP range')\n",
    "\n",
    "plt.savefig('Hist_hp_rel.png')\n",
    "\n",
    "plt.show()"
   ]
  },
  {
   "cell_type": "code",
   "execution_count": 84,
   "id": "d1092305-01b2-4ae5-a7d0-aeda68627e21",
   "metadata": {},
   "outputs": [
    {
     "data": {
      "text/plain": [
       "<Axes: xlabel='FuelType', ylabel='count'>"
      ]
     },
     "execution_count": 84,
     "metadata": {},
     "output_type": "execute_result"
    },
    {
     "data": {
      "image/png": "[encoded data removed]",
      "text/plain": [
       "<Figure size 640x480 with 1 Axes>"
      ]
     },
     "metadata": {},
     "output_type": "display_data"
    }
   ],
   "source": [
    "sns.countplot(data=toyota_df, x ='FuelType')"
   ]
  },
  {
   "cell_type": "code",
   "execution_count": 85,
   "id": "b630a020-da64-407f-8271-bbf5e494e50a",
   "metadata": {},
   "outputs": [
    {
     "data": {
      "text/plain": [
       "<Axes: xlabel='FuelType', ylabel='Price'>"
      ]
     },
     "execution_count": 85,
     "metadata": {},
     "output_type": "execute_result"
    },
    {
     "data": {
      "image/png": "[encoded data removed]",
      "text/plain": [
       "<Figure size 640x480 with 1 Axes>"
      ]
     },
     "metadata": {},
     "output_type": "display_data"
    }
   ],
   "source": [
    "sns.barplot(data = toyota_df, y='Price', x='FuelType', hue = 'MetColor')"
   ]
  },
  {
   "cell_type": "code",
   "execution_count": 86,
   "id": "077fa586-99d9-40da-b4a6-72661e42bf7e",
   "metadata": {},
   "outputs": [
    {
     "data": {
      "image/png": "[encoded data removed]",
      "text/plain": [
       "<Figure size 640x480 with 1 Axes>"
      ]
     },
     "metadata": {},
     "output_type": "display_data"
    }
   ],
   "source": [
    "sns.barplot(data = toyota_df, y='Price', x='FuelType', hue='Doors', errorbar=None)\n",
    "\n",
    "plt.title('Distribution of Price against FuelType in relation to Doors.')\n",
    "plt.xlabel('')\n",
    "plt.ylabel('')\n",
    "\n",
    "plt.show()"
   ]
  },
  {
   "cell_type": "code",
   "execution_count": 87,
   "id": "7bae069b-060c-4768-8888-24a0a6f81761",
   "metadata": {},
   "outputs": [
    {
     "data": {
      "text/plain": [
       "Text(0.5, 1.0, 'scatter Distribution of Price against Age.')"
      ]
     },
     "execution_count": 87,
     "metadata": {},
     "output_type": "execute_result"
    },
    {
     "data": {
      "image/png": "[encoded data removed]",
      "text/plain": [
       "<Figure size 640x480 with 1 Axes>"
      ]
     },
     "metadata": {},
     "output_type": "display_data"
    }
   ],
   "source": [
    "sns.scatterplot(data= toyota_df, y='Price', x='Age', hue='Automatic')\n",
    "\n",
    "plt.title('scatter Distribution of Price against Age.')"
   ]
  },
  {
   "cell_type": "code",
   "execution_count": 88,
   "id": "36ad8603-6b85-41c9-987d-72f1759fd9e6",
   "metadata": {},
   "outputs": [],
   "source": [
    "door_counts = toyota_df['Doors'].value_counts()"
   ]
  },
  {
   "cell_type": "code",
   "execution_count": 89,
   "id": "4b2ae446-4672-47e5-a109-62ecbd32f163",
   "metadata": {},
   "outputs": [
    {
     "data": {
      "text/plain": [
       "<Figure size 800x800 with 0 Axes>"
      ]
     },
     "execution_count": 89,
     "metadata": {},
     "output_type": "execute_result"
    },
    {
     "data": {
      "text/plain": [
       "<Figure size 800x800 with 0 Axes>"
      ]
     },
     "metadata": {},
     "output_type": "display_data"
    }
   ],
   "source": [
    "plt.figure(figsize =(8, 8))"
   ]
  },
  {
   "cell_type": "code",
   "execution_count": 90,
   "id": "e4747154-d475-43fa-88d1-0ed277d65003",
   "metadata": {},
   "outputs": [
    {
     "data": {
      "text/plain": [
       "([<matplotlib.patches.Wedge at 0x1d146f93190>,\n",
       "  <matplotlib.patches.Wedge at 0x1d1471719d0>,\n",
       "  <matplotlib.patches.Wedge at 0x1d147173250>,\n",
       "  <matplotlib.patches.Wedge at 0x1d147172b10>],\n",
       " [Text(-0.7847816074891041, -0.7707903920955541, '5'),\n",
       "  Text(0.9806649380936512, 0.49829336659620044, '3'),\n",
       "  Text(-0.5861730323089019, 0.9308067340720022, '4'),\n",
       "  Text(-0.8395471371348506, 0.710746512146684, '2')],\n",
       " [Text(-0.42806269499405675, -0.42043112296121127, '46.9%'),\n",
       "  Text(0.5349081480510824, 0.27179638177974563, '43.3%'),\n",
       "  Text(-0.3197307448957647, 0.5077127640392739, '9.6%'),\n",
       "  Text(-0.45793480207355486, 0.38767991571637306, '0.1%')])"
      ]
     },
     "execution_count": 90,
     "metadata": {},
     "output_type": "execute_result"
    },
    {
     "data": {
      "image/png": "[encoded data removed]",
      "text/plain": [
       "<Figure size 640x480 with 1 Axes>"
      ]
     },
     "metadata": {},
     "output_type": "display_data"
    }
   ],
   "source": [
    "plt.pie(door_counts, labels = door_counts.index, autopct = '%1.1f%%', startangle = 140)"
   ]
  },
  {
   "cell_type": "code",
   "execution_count": null,
   "id": "c5cc6521-0c4b-432d-a902-fd421a0453a1",
   "metadata": {},
   "outputs": [],
   "source": []
  }
 ],
 "metadata": {
  "kernelspec": {
   "display_name": "Python 3 (ipykernel)",
   "language": "python",
   "name": "python3"
  },
  "language_info": {
   "codemirror_mode": {
    "name": "ipython",
    "version": 3
   },
   "file_extension": ".py",
   "mimetype": "text/x-python",
   "name": "python",
   "nbconvert_exporter": "python",
   "pygments_lexer": "ipython3",
   "version": "3.11.2"
  }
 },
 "nbformat": 4,
 "nbformat_minor": 5
}
