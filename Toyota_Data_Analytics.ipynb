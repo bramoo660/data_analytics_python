{
 "cells": [
  {
   "cell_type": "markdown",
   "id": "5ff8b174-c666-4cda-9224-0a4b7688f676",
   "metadata": {},
   "source": [
    "## Import Libraries"
   ]
  },
  {
   "cell_type": "code",
   "execution_count": 2,
   "id": "a3391bc0-1f0b-4f18-a542-561a8d31e1b0",
   "metadata": {},
   "outputs": [],
   "source": [
    "## Loading and Processing Data\n",
    "import numpy as np\n",
    "import pandas as pd"
   ]
  },
  {
   "cell_type": "markdown",
   "id": "7ff1bdad-38f4-4adf-813d-6a929cd47b22",
   "metadata": {},
   "source": [
    "## Loading And Creating a Copy of Data"
   ]
  },
  {
   "cell_type": "code",
   "execution_count": 7,
   "id": "1942453e-d4a2-4dcd-b826-cfda375f92a1",
   "metadata": {},
   "outputs": [],
   "source": [
    "toyota_data = pd.read_csv(\"Datasets/Toyota.csv\")"
   ]
  },
  {
   "cell_type": "code",
   "execution_count": 13,
   "id": "ffc43982-d60a-44db-8308-2e51a00c0056",
   "metadata": {},
   "outputs": [],
   "source": [
    "## Create a Copy\n",
    "\n",
    "toyota_df = toyota_data.copy()"
   ]
  },
  {
   "cell_type": "markdown",
   "id": "e4280830-96c0-4bff-bbfc-0c105d9f2678",
   "metadata": {},
   "source": [
    "## Overviewing And Understanding The Toyota Datarame"
   ]
  },
  {
   "cell_type": "code",
   "execution_count": 14,
   "id": "f4a611ac-9e88-4068-966b-bfe3f9190e2c",
   "metadata": {},
   "outputs": [
    {
     "data": {
      "text/html": [
       "<div>\n",
       "<style scoped>\n",
       "    .dataframe tbody tr th:only-of-type {\n",
       "        vertical-align: middle;\n",
       "    }\n",
       "\n",
       "    .dataframe tbody tr th {\n",
       "        vertical-align: top;\n",
       "    }\n",
       "\n",
       "    .dataframe thead th {\n",
       "        text-align: right;\n",
       "    }\n",
       "</style>\n",
       "<table border=\"1\" class=\"dataframe\">\n",
       "  <thead>\n",
       "    <tr style=\"text-align: right;\">\n",
       "      <th></th>\n",
       "      <th>Unnamed: 0</th>\n",
       "      <th>Price</th>\n",
       "      <th>Age</th>\n",
       "      <th>KM</th>\n",
       "      <th>FuelType</th>\n",
       "      <th>HP</th>\n",
       "      <th>MetColor</th>\n",
       "      <th>Automatic</th>\n",
       "      <th>CC</th>\n",
       "      <th>Doors</th>\n",
       "      <th>Weight</th>\n",
       "    </tr>\n",
       "  </thead>\n",
       "  <tbody>\n",
       "    <tr>\n",
       "      <th>0</th>\n",
       "      <td>0</td>\n",
       "      <td>13500</td>\n",
       "      <td>23.0</td>\n",
       "      <td>46986</td>\n",
       "      <td>Diesel</td>\n",
       "      <td>90</td>\n",
       "      <td>1.0</td>\n",
       "      <td>0</td>\n",
       "      <td>2000</td>\n",
       "      <td>three</td>\n",
       "      <td>1165</td>\n",
       "    </tr>\n",
       "    <tr>\n",
       "      <th>1</th>\n",
       "      <td>1</td>\n",
       "      <td>13750</td>\n",
       "      <td>23.0</td>\n",
       "      <td>72937</td>\n",
       "      <td>Diesel</td>\n",
       "      <td>90</td>\n",
       "      <td>1.0</td>\n",
       "      <td>0</td>\n",
       "      <td>2000</td>\n",
       "      <td>3</td>\n",
       "      <td>1165</td>\n",
       "    </tr>\n",
       "    <tr>\n",
       "      <th>2</th>\n",
       "      <td>2</td>\n",
       "      <td>13950</td>\n",
       "      <td>24.0</td>\n",
       "      <td>41711</td>\n",
       "      <td>Diesel</td>\n",
       "      <td>90</td>\n",
       "      <td>NaN</td>\n",
       "      <td>0</td>\n",
       "      <td>2000</td>\n",
       "      <td>3</td>\n",
       "      <td>1165</td>\n",
       "    </tr>\n",
       "    <tr>\n",
       "      <th>3</th>\n",
       "      <td>3</td>\n",
       "      <td>14950</td>\n",
       "      <td>26.0</td>\n",
       "      <td>48000</td>\n",
       "      <td>Diesel</td>\n",
       "      <td>90</td>\n",
       "      <td>0.0</td>\n",
       "      <td>0</td>\n",
       "      <td>2000</td>\n",
       "      <td>3</td>\n",
       "      <td>1165</td>\n",
       "    </tr>\n",
       "    <tr>\n",
       "      <th>4</th>\n",
       "      <td>4</td>\n",
       "      <td>13750</td>\n",
       "      <td>30.0</td>\n",
       "      <td>38500</td>\n",
       "      <td>Diesel</td>\n",
       "      <td>90</td>\n",
       "      <td>0.0</td>\n",
       "      <td>0</td>\n",
       "      <td>2000</td>\n",
       "      <td>3</td>\n",
       "      <td>1170</td>\n",
       "    </tr>\n",
       "  </tbody>\n",
       "</table>\n",
       "</div>"
      ],
      "text/plain": [
       "   Unnamed: 0  Price   Age     KM FuelType  HP  MetColor  Automatic    CC  \\\n",
       "0           0  13500  23.0  46986   Diesel  90       1.0          0  2000   \n",
       "1           1  13750  23.0  72937   Diesel  90       1.0          0  2000   \n",
       "2           2  13950  24.0  41711   Diesel  90       NaN          0  2000   \n",
       "3           3  14950  26.0  48000   Diesel  90       0.0          0  2000   \n",
       "4           4  13750  30.0  38500   Diesel  90       0.0          0  2000   \n",
       "\n",
       "   Doors  Weight  \n",
       "0  three    1165  \n",
       "1      3    1165  \n",
       "2      3    1165  \n",
       "3      3    1165  \n",
       "4      3    1170  "
      ]
     },
     "execution_count": 14,
     "metadata": {},
     "output_type": "execute_result"
    }
   ],
   "source": [
    "## lets see the first rows\n",
    "\n",
    "toyota_df.head()"
   ]
  },
  {
   "cell_type": "code",
   "execution_count": 15,
   "id": "ff600abd-f8a6-4f0d-9fb6-b78abca422df",
   "metadata": {},
   "outputs": [
    {
     "data": {
      "text/html": [
       "<div>\n",
       "<style scoped>\n",
       "    .dataframe tbody tr th:only-of-type {\n",
       "        vertical-align: middle;\n",
       "    }\n",
       "\n",
       "    .dataframe tbody tr th {\n",
       "        vertical-align: top;\n",
       "    }\n",
       "\n",
       "    .dataframe thead th {\n",
       "        text-align: right;\n",
       "    }\n",
       "</style>\n",
       "<table border=\"1\" class=\"dataframe\">\n",
       "  <thead>\n",
       "    <tr style=\"text-align: right;\">\n",
       "      <th></th>\n",
       "      <th>Unnamed: 0</th>\n",
       "      <th>Price</th>\n",
       "      <th>Age</th>\n",
       "      <th>KM</th>\n",
       "      <th>FuelType</th>\n",
       "      <th>HP</th>\n",
       "      <th>MetColor</th>\n",
       "      <th>Automatic</th>\n",
       "      <th>CC</th>\n",
       "      <th>Doors</th>\n",
       "      <th>Weight</th>\n",
       "    </tr>\n",
       "  </thead>\n",
       "  <tbody>\n",
       "    <tr>\n",
       "      <th>1431</th>\n",
       "      <td>1431</td>\n",
       "      <td>7500</td>\n",
       "      <td>NaN</td>\n",
       "      <td>20544</td>\n",
       "      <td>Petrol</td>\n",
       "      <td>86</td>\n",
       "      <td>1.0</td>\n",
       "      <td>0</td>\n",
       "      <td>1300</td>\n",
       "      <td>3</td>\n",
       "      <td>1025</td>\n",
       "    </tr>\n",
       "    <tr>\n",
       "      <th>1432</th>\n",
       "      <td>1432</td>\n",
       "      <td>10845</td>\n",
       "      <td>72.0</td>\n",
       "      <td>??</td>\n",
       "      <td>Petrol</td>\n",
       "      <td>86</td>\n",
       "      <td>0.0</td>\n",
       "      <td>0</td>\n",
       "      <td>1300</td>\n",
       "      <td>3</td>\n",
       "      <td>1015</td>\n",
       "    </tr>\n",
       "    <tr>\n",
       "      <th>1433</th>\n",
       "      <td>1433</td>\n",
       "      <td>8500</td>\n",
       "      <td>NaN</td>\n",
       "      <td>17016</td>\n",
       "      <td>Petrol</td>\n",
       "      <td>86</td>\n",
       "      <td>0.0</td>\n",
       "      <td>0</td>\n",
       "      <td>1300</td>\n",
       "      <td>3</td>\n",
       "      <td>1015</td>\n",
       "    </tr>\n",
       "    <tr>\n",
       "      <th>1434</th>\n",
       "      <td>1434</td>\n",
       "      <td>7250</td>\n",
       "      <td>70.0</td>\n",
       "      <td>??</td>\n",
       "      <td>NaN</td>\n",
       "      <td>86</td>\n",
       "      <td>1.0</td>\n",
       "      <td>0</td>\n",
       "      <td>1300</td>\n",
       "      <td>3</td>\n",
       "      <td>1015</td>\n",
       "    </tr>\n",
       "    <tr>\n",
       "      <th>1435</th>\n",
       "      <td>1435</td>\n",
       "      <td>6950</td>\n",
       "      <td>76.0</td>\n",
       "      <td>1</td>\n",
       "      <td>Petrol</td>\n",
       "      <td>110</td>\n",
       "      <td>0.0</td>\n",
       "      <td>0</td>\n",
       "      <td>1600</td>\n",
       "      <td>5</td>\n",
       "      <td>1114</td>\n",
       "    </tr>\n",
       "  </tbody>\n",
       "</table>\n",
       "</div>"
      ],
      "text/plain": [
       "      Unnamed: 0  Price   Age     KM FuelType   HP  MetColor  Automatic    CC  \\\n",
       "1431        1431   7500   NaN  20544   Petrol   86       1.0          0  1300   \n",
       "1432        1432  10845  72.0     ??   Petrol   86       0.0          0  1300   \n",
       "1433        1433   8500   NaN  17016   Petrol   86       0.0          0  1300   \n",
       "1434        1434   7250  70.0     ??      NaN   86       1.0          0  1300   \n",
       "1435        1435   6950  76.0      1   Petrol  110       0.0          0  1600   \n",
       "\n",
       "     Doors  Weight  \n",
       "1431     3    1025  \n",
       "1432     3    1015  \n",
       "1433     3    1015  \n",
       "1434     3    1015  \n",
       "1435     5    1114  "
      ]
     },
     "execution_count": 15,
     "metadata": {},
     "output_type": "execute_result"
    }
   ],
   "source": [
    "toyota_df.tail()"
   ]
  },
  {
   "cell_type": "code",
   "execution_count": 17,
   "id": "ac25ace3-376c-4edd-b7af-ed8c5b241993",
   "metadata": {},
   "outputs": [
    {
     "data": {
      "text/plain": [
       "15796"
      ]
     },
     "execution_count": 17,
     "metadata": {},
     "output_type": "execute_result"
    }
   ],
   "source": [
    "toyota_df.size"
   ]
  },
  {
   "cell_type": "code",
   "execution_count": 18,
   "id": "12cc8ae4-6847-4727-9cab-8c02d4041965",
   "metadata": {},
   "outputs": [
    {
     "name": "stdout",
     "output_type": "stream",
     "text": [
      "Total Number of Rows: 1436 => Total Number of Columns: 11\n"
     ]
    }
   ],
   "source": [
    "## Lets Check the total number of Rows and Colunms\n",
    "\n",
    "print(f\"Total Number of Rows: {toyota_df.shape[0]} => Total Number of Columns: {toyota_data.shape[1]}\")"
   ]
  },
  {
   "cell_type": "code",
   "execution_count": 19,
   "id": "d0deb75b-0e4d-4fd8-921c-71c3601073e7",
   "metadata": {},
   "outputs": [
    {
     "data": {
      "text/plain": [
       "RangeIndex(start=0, stop=1436, step=1)"
      ]
     },
     "execution_count": 19,
     "metadata": {},
     "output_type": "execute_result"
    }
   ],
   "source": [
    "## Lets display Index\n",
    "\n",
    "toyota_df.index"
   ]
  },
  {
   "cell_type": "code",
   "execution_count": 20,
   "id": "5e155d9b-dc87-4d5b-9ab6-e64f92f10692",
   "metadata": {},
   "outputs": [
    {
     "data": {
      "text/plain": [
       "Index(['Unnamed: 0', 'Price', 'Age', 'KM', 'FuelType', 'HP', 'MetColor',\n",
       "       'Automatic', 'CC', 'Doors', 'Weight'],\n",
       "      dtype='object')"
      ]
     },
     "execution_count": 20,
     "metadata": {},
     "output_type": "execute_result"
    }
   ],
   "source": [
    "## lets display the column names\n",
    "toyota_df.columns"
   ]
  },
  {
   "cell_type": "code",
   "execution_count": 21,
   "id": "51f8a57a-8794-4415-a062-ea12a35c5501",
   "metadata": {},
   "outputs": [
    {
     "data": {
      "text/plain": [
       "Unnamed: 0      int64\n",
       "Price           int64\n",
       "Age           float64\n",
       "KM             object\n",
       "FuelType       object\n",
       "HP             object\n",
       "MetColor      float64\n",
       "Automatic       int64\n",
       "CC              int64\n",
       "Doors          object\n",
       "Weight          int64\n",
       "dtype: object"
      ]
     },
     "execution_count": 21,
     "metadata": {},
     "output_type": "execute_result"
    }
   ],
   "source": [
    "## Lets check the Columns types\n",
    "toyota_df.dtypes"
   ]
  },
  {
   "cell_type": "code",
   "execution_count": 22,
   "id": "9f8f4ce4-a98f-4e7a-a62a-6ff8f7f4a38a",
   "metadata": {},
   "outputs": [
    {
     "name": "stdout",
     "output_type": "stream",
     "text": [
      "<class 'pandas.core.frame.DataFrame'>\n",
      "RangeIndex: 1436 entries, 0 to 1435\n",
      "Data columns (total 11 columns):\n",
      " #   Column      Non-Null Count  Dtype  \n",
      "---  ------      --------------  -----  \n",
      " 0   Unnamed: 0  1436 non-null   int64  \n",
      " 1   Price       1436 non-null   int64  \n",
      " 2   Age         1336 non-null   float64\n",
      " 3   KM          1436 non-null   object \n",
      " 4   FuelType    1336 non-null   object \n",
      " 5   HP          1436 non-null   object \n",
      " 6   MetColor    1286 non-null   float64\n",
      " 7   Automatic   1436 non-null   int64  \n",
      " 8   CC          1436 non-null   int64  \n",
      " 9   Doors       1436 non-null   object \n",
      " 10  Weight      1436 non-null   int64  \n",
      "dtypes: float64(2), int64(5), object(4)\n",
      "memory usage: 123.5+ KB\n"
     ]
    }
   ],
   "source": [
    "## Lets get a concise summary of our toyota dataframe\n",
    "\n",
    "toyota_df.info()"
   ]
  },
  {
   "cell_type": "markdown",
   "id": "fe014deb-4c1e-41f8-9768-243fa1e9e2b4",
   "metadata": {},
   "source": [
    "### Check for unique Instances in the Following Columns\n",
    "- HP\n",
    "- KM\n",
    "- MetColor\n",
    "- Automatic\n",
    "- Doors"
   ]
  },
  {
   "cell_type": "code",
   "execution_count": 23,
   "id": "fc20236e-137c-46f7-9e16-0270d266b61b",
   "metadata": {},
   "outputs": [
    {
     "name": "stdout",
     "output_type": "stream",
     "text": [
      "['107' '110' '116' '192' '69' '71' '72' '73' '86' '90' '97' '98' '????']\n"
     ]
    }
   ],
   "source": [
    "print(np.unique(toyota_df['HP']))"
   ]
  },
  {
   "cell_type": "code",
   "execution_count": 24,
   "id": "85e6f15a-e281-45f2-9e4a-e64e5c384740",
   "metadata": {},
   "outputs": [
    {
     "name": "stdout",
     "output_type": "stream",
     "text": [
      "['1' '10000' '100123' ... '99865' '99971' '??']\n"
     ]
    }
   ],
   "source": [
    "print(np.unique(toyota_df['KM']))"
   ]
  },
  {
   "cell_type": "code",
   "execution_count": 25,
   "id": "ebb0e42f-5757-4bfc-9b6e-13c13b81aa9a",
   "metadata": {},
   "outputs": [
    {
     "name": "stdout",
     "output_type": "stream",
     "text": [
      "[ 0.  1. nan]\n"
     ]
    }
   ],
   "source": [
    "print(np.unique(toyota_df['MetColor']))"
   ]
  },
  {
   "cell_type": "code",
   "execution_count": 26,
   "id": "94df0f18-e672-42c8-ab9f-cfa6858e5095",
   "metadata": {},
   "outputs": [
    {
     "name": "stdout",
     "output_type": "stream",
     "text": [
      "[0 1]\n"
     ]
    }
   ],
   "source": [
    "print(np.unique(toyota_df['Automatic']))"
   ]
  },
  {
   "cell_type": "code",
   "execution_count": 27,
   "id": "cb2df6cf-1a57-43ce-9e56-236e74a8963a",
   "metadata": {},
   "outputs": [
    {
     "name": "stdout",
     "output_type": "stream",
     "text": [
      "['2' '3' '4' '5' 'five' 'four' 'three']\n"
     ]
    }
   ],
   "source": [
    "print(np.unique(toyota_df['Doors']))"
   ]
  },
  {
   "cell_type": "code",
   "execution_count": null,
   "id": "b8dcd612-0c62-4129-bbfd-bb34f10ed4ff",
   "metadata": {},
   "outputs": [],
   "source": []
  }
 ],
 "metadata": {
  "kernelspec": {
   "display_name": "Python 3 (ipykernel)",
   "language": "python",
   "name": "python3"
  },
  "language_info": {
   "codemirror_mode": {
    "name": "ipython",
    "version": 3
   },
   "file_extension": ".py",
   "mimetype": "text/x-python",
   "name": "python",
   "nbconvert_exporter": "python",
   "pygments_lexer": "ipython3",
   "version": "3.11.2"
  }
 },
 "nbformat": 4,
 "nbformat_minor": 5
}
