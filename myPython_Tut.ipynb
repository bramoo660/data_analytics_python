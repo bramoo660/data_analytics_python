{
 "cells": [
  {
   "cell_type": "markdown",
   "id": "6e03f300-73d3-4e07-b41a-063730a66dc2",
   "metadata": {},
   "source": [
    "## My First Python Tutorial\n",
    "### By Kevin Stratvert"
   ]
  },
  {
   "cell_type": "code",
   "execution_count": 2,
   "id": "23d195b6-432e-4b47-8aa4-4b16483e79eb",
   "metadata": {},
   "outputs": [
    {
     "name": "stdout",
     "output_type": "stream",
     "text": [
      "stratvert\n"
     ]
    }
   ],
   "source": [
    "## Creating a variable\n",
    "\n",
    "red_bucket = \"stratvert\"\n",
    "print(red_bucket)"
   ]
  },
  {
   "cell_type": "code",
   "execution_count": 3,
   "id": "7d132435-7d2e-48cc-b657-6e4db0b9558d",
   "metadata": {},
   "outputs": [
    {
     "name": "stdout",
     "output_type": "stream",
     "text": [
      "10\n"
     ]
    }
   ],
   "source": [
    "## Changing the Value of the Variable at the top\n",
    "\n",
    "red_bucket = 10\n",
    "print(red_bucket)"
   ]
  },
  {
   "cell_type": "code",
   "execution_count": 4,
   "id": "99e9cb8e-26a1-41a3-9ba9-c10b79a718aa",
   "metadata": {},
   "outputs": [
    {
     "name": "stdout",
     "output_type": "stream",
     "text": [
      "<class 'int'>\n"
     ]
    }
   ],
   "source": [
    "## to check the data type of your value\n",
    "\n",
    "print(type(red_bucket))"
   ]
  },
  {
   "cell_type": "code",
   "execution_count": 5,
   "id": "574682ac-ced1-49e7-b48c-5774a81e1749",
   "metadata": {},
   "outputs": [
    {
     "name": "stdin",
     "output_type": "stream",
     "text": [
      "What do you want to put in the red bucket?:  chocolate\n"
     ]
    },
    {
     "name": "stdout",
     "output_type": "stream",
     "text": [
      "chocolate\n"
     ]
    }
   ],
   "source": [
    "## To Request for input from a user\n",
    "\n",
    "red_bucket = input(\"What do you want to put in the red bucket?: \")\n",
    "print(red_bucket)"
   ]
  },
  {
   "cell_type": "markdown",
   "id": "753122d3-d017-448d-85c7-7f014606c176",
   "metadata": {},
   "source": [
    "## Operators\n",
    "\n",
    "#### Symbol                       Operation                     Examples  "
   ]
  },
  {
   "cell_type": "markdown",
   "id": "b0753013-41bc-4e84-96d1-35e7baabe78f",
   "metadata": {},
   "source": [
    "#### ==    Equal to                2 == 2    True\n",
    "#### !=    Not Equal to            3 != 4    False\n",
    "#### <     less than               4 < 5     True\n",
    "#### >     Greater than            3 > 5     False\n",
    "#### >=    Greater or Equal to     3 >= 5    False\n",
    "#### <=    Less than or Equal to   3 <= 5    True"
   ]
  },
  {
   "cell_type": "code",
   "execution_count": 9,
   "id": "dffbe9e5-1c50-4721-b73a-819e3af800c4",
   "metadata": {},
   "outputs": [
    {
     "name": "stdout",
     "output_type": "stream",
     "text": [
      "False\n"
     ]
    }
   ],
   "source": [
    "## Checking Equality \n",
    "\n",
    "thomas_age = 3\n",
    "kindergarten = 5\n",
    "\n",
    "print(thomas_age == kindergarten)"
   ]
  },
  {
   "cell_type": "markdown",
   "id": "c092224e-9f4b-432d-9f71-79227dfa5c95",
   "metadata": {},
   "source": [
    "## Flow Control"
   ]
  },
  {
   "cell_type": "code",
   "execution_count": 13,
   "id": "f179502b-364b-44e6-bc04-27c3713bd3b9",
   "metadata": {},
   "outputs": [
    {
     "name": "stdout",
     "output_type": "stream",
     "text": [
      "Thomas must be in another class\n"
     ]
    }
   ],
   "source": [
    "Thomas_age = 10\n",
    "Age_in_Kindergarten = 5\n",
    "\n",
    "## IF statement\n",
    "if Thomas_age < Age_in_Kindergarten:\n",
    "    print(\"Thomas is due for pre-school\")\n",
    "elif Thomas_age == Age_in_Kindergarten:\n",
    "    print(\"Thomas must be in Kindergarten\")\n",
    "else:\n",
    "    print(\"Thomas must be in another class\")"
   ]
  },
  {
   "cell_type": "markdown",
   "id": "012ccb32-4b99-4da1-9898-c3c1791f08bc",
   "metadata": {},
   "source": [
    "## Functions"
   ]
  },
  {
   "cell_type": "code",
   "execution_count": 15,
   "id": "90545b8e-b853-406d-93bd-595ba63f6754",
   "metadata": {},
   "outputs": [
    {
     "name": "stdout",
     "output_type": "stream",
     "text": [
      "Bramoo has a Fantastic Voice\n",
      "Bramoo has a Fantastic Voice\n",
      "Bramoo has a Fantastic Voice\n",
      "Bramoo has a Fantastic Voice\n",
      "Bramoo has a Fantastic Voice\n",
      "Bramoo has a Fantastic Voice\n",
      "Bramoo has a Fantastic Voice\n",
      "Bramoo has a Fantastic Voice\n",
      "Bramoo has a Fantastic Voice\n"
     ]
    }
   ],
   "source": [
    "def print_bramoo():\n",
    "    text = (\"Bramoo has a Fantastic Voice\")\n",
    "    print(text)\n",
    "    print(text)\n",
    "    print(text)\n",
    "\n",
    "print_bramoo()\n",
    "print_bramoo()\n",
    "print_bramoo()"
   ]
  },
  {
   "cell_type": "code",
   "execution_count": null,
   "id": "231d7250-7bcd-4a78-a335-02935f49c464",
   "metadata": {},
   "outputs": [],
   "source": []
  }
 ],
 "metadata": {
  "kernelspec": {
   "display_name": "Python 3 (ipykernel)",
   "language": "python",
   "name": "python3"
  },
  "language_info": {
   "codemirror_mode": {
    "name": "ipython",
    "version": 3
   },
   "file_extension": ".py",
   "mimetype": "text/x-python",
   "name": "python",
   "nbconvert_exporter": "python",
   "pygments_lexer": "ipython3",
   "version": "3.11.2"
  }
 },
 "nbformat": 4,
 "nbformat_minor": 5
}
